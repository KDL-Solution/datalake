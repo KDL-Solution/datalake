{
 "cells": [
  {
   "cell_type": "code",
   "execution_count": 6,
   "id": "6512e143",
   "metadata": {},
   "outputs": [],
   "source": [
    "import os\n",
    "from glob import glob\n",
    "import shutil\n",
    "from zipfile import ZipFile\n",
    "import json\n",
    "from tqdm import tqdm\n",
    "import pandas as pd\n",
    "src = \"/home/kai/workspace/DeepDocs_Project/datalake/source/tech_sci_mrc\""
   ]
  },
  {
   "cell_type": "code",
   "execution_count": 7,
   "id": "9968a4dc",
   "metadata": {},
   "outputs": [],
   "source": [
    "data = glob(f\"{src}/**/*.zip\", recursive=True)"
   ]
  },
  {
   "cell_type": "code",
   "execution_count": 8,
   "id": "8e7b35a5",
   "metadata": {},
   "outputs": [
    {
     "name": "stdout",
     "output_type": "stream",
     "text": [
      "Unzipping /home/kai/workspace/DeepDocs_Project/datalake/source/tech_sci_mrc/152.기술과학_문서_기계독해_데이터/01-1.정식개방데이터/Validation/01.원천데이터/VS_생명_LA.zip...\n",
      "Unzipped /home/kai/workspace/DeepDocs_Project/datalake/source/tech_sci_mrc/152.기술과학_문서_기계독해_데이터/01-1.정식개방데이터/Validation/01.원천데이터/VS_생명_LA.zip to /home/kai/workspace/DeepDocs_Project/datalake/source/tech_sci_mrc/152.기술과학_문서_기계독해_데이터/01-1.정식개방데이터/Validation/01.원천데이터\n",
      "Unzipping /home/kai/workspace/DeepDocs_Project/datalake/source/tech_sci_mrc/152.기술과학_문서_기계독해_데이터/01-1.정식개방데이터/Validation/01.원천데이터/VS_인공물_EE.zip...\n",
      "Unzipped /home/kai/workspace/DeepDocs_Project/datalake/source/tech_sci_mrc/152.기술과학_문서_기계독해_데이터/01-1.정식개방데이터/Validation/01.원천데이터/VS_인공물_EE.zip to /home/kai/workspace/DeepDocs_Project/datalake/source/tech_sci_mrc/152.기술과학_문서_기계독해_데이터/01-1.정식개방데이터/Validation/01.원천데이터\n",
      "Unzipping /home/kai/workspace/DeepDocs_Project/datalake/source/tech_sci_mrc/152.기술과학_문서_기계독해_데이터/01-1.정식개방데이터/Validation/01.원천데이터/VS_인공물_ED.zip...\n",
      "Unzipped /home/kai/workspace/DeepDocs_Project/datalake/source/tech_sci_mrc/152.기술과학_문서_기계독해_데이터/01-1.정식개방데이터/Validation/01.원천데이터/VS_인공물_ED.zip to /home/kai/workspace/DeepDocs_Project/datalake/source/tech_sci_mrc/152.기술과학_문서_기계독해_데이터/01-1.정식개방데이터/Validation/01.원천데이터\n",
      "Unzipping /home/kai/workspace/DeepDocs_Project/datalake/source/tech_sci_mrc/152.기술과학_문서_기계독해_데이터/01-1.정식개방데이터/Validation/01.원천데이터/VS_자연_NA.zip...\n",
      "Unzipped /home/kai/workspace/DeepDocs_Project/datalake/source/tech_sci_mrc/152.기술과학_문서_기계독해_데이터/01-1.정식개방데이터/Validation/01.원천데이터/VS_자연_NA.zip to /home/kai/workspace/DeepDocs_Project/datalake/source/tech_sci_mrc/152.기술과학_문서_기계독해_데이터/01-1.정식개방데이터/Validation/01.원천데이터\n",
      "Unzipping /home/kai/workspace/DeepDocs_Project/datalake/source/tech_sci_mrc/152.기술과학_문서_기계독해_데이터/01-1.정식개방데이터/Validation/02.라벨링데이터/VL_자연_NA.zip...\n",
      "Unzipped /home/kai/workspace/DeepDocs_Project/datalake/source/tech_sci_mrc/152.기술과학_문서_기계독해_데이터/01-1.정식개방데이터/Validation/02.라벨링데이터/VL_자연_NA.zip to /home/kai/workspace/DeepDocs_Project/datalake/source/tech_sci_mrc/152.기술과학_문서_기계독해_데이터/01-1.정식개방데이터/Validation/02.라벨링데이터\n",
      "Unzipping /home/kai/workspace/DeepDocs_Project/datalake/source/tech_sci_mrc/152.기술과학_문서_기계독해_데이터/01-1.정식개방데이터/Validation/02.라벨링데이터/VL_인공물_ED.zip...\n",
      "Unzipped /home/kai/workspace/DeepDocs_Project/datalake/source/tech_sci_mrc/152.기술과학_문서_기계독해_데이터/01-1.정식개방데이터/Validation/02.라벨링데이터/VL_인공물_ED.zip to /home/kai/workspace/DeepDocs_Project/datalake/source/tech_sci_mrc/152.기술과학_문서_기계독해_데이터/01-1.정식개방데이터/Validation/02.라벨링데이터\n",
      "Unzipping /home/kai/workspace/DeepDocs_Project/datalake/source/tech_sci_mrc/152.기술과학_문서_기계독해_데이터/01-1.정식개방데이터/Validation/02.라벨링데이터/VL_인공물_EE.zip...\n",
      "Unzipped /home/kai/workspace/DeepDocs_Project/datalake/source/tech_sci_mrc/152.기술과학_문서_기계독해_데이터/01-1.정식개방데이터/Validation/02.라벨링데이터/VL_인공물_EE.zip to /home/kai/workspace/DeepDocs_Project/datalake/source/tech_sci_mrc/152.기술과학_문서_기계독해_데이터/01-1.정식개방데이터/Validation/02.라벨링데이터\n",
      "Unzipping /home/kai/workspace/DeepDocs_Project/datalake/source/tech_sci_mrc/152.기술과학_문서_기계독해_데이터/01-1.정식개방데이터/Validation/02.라벨링데이터/VL_생명_LA.zip...\n",
      "Unzipped /home/kai/workspace/DeepDocs_Project/datalake/source/tech_sci_mrc/152.기술과학_문서_기계독해_데이터/01-1.정식개방데이터/Validation/02.라벨링데이터/VL_생명_LA.zip to /home/kai/workspace/DeepDocs_Project/datalake/source/tech_sci_mrc/152.기술과학_문서_기계독해_데이터/01-1.정식개방데이터/Validation/02.라벨링데이터\n",
      "Unzipping /home/kai/workspace/DeepDocs_Project/datalake/source/tech_sci_mrc/152.기술과학_문서_기계독해_데이터/01-1.정식개방데이터/Training/01.원천데이터/TS_인공물_ED.zip...\n",
      "Unzipped /home/kai/workspace/DeepDocs_Project/datalake/source/tech_sci_mrc/152.기술과학_문서_기계독해_데이터/01-1.정식개방데이터/Training/01.원천데이터/TS_인공물_ED.zip to /home/kai/workspace/DeepDocs_Project/datalake/source/tech_sci_mrc/152.기술과학_문서_기계독해_데이터/01-1.정식개방데이터/Training/01.원천데이터\n",
      "Unzipping /home/kai/workspace/DeepDocs_Project/datalake/source/tech_sci_mrc/152.기술과학_문서_기계독해_데이터/01-1.정식개방데이터/Training/01.원천데이터/TS_인공물_EE.zip...\n",
      "Unzipped /home/kai/workspace/DeepDocs_Project/datalake/source/tech_sci_mrc/152.기술과학_문서_기계독해_데이터/01-1.정식개방데이터/Training/01.원천데이터/TS_인공물_EE.zip to /home/kai/workspace/DeepDocs_Project/datalake/source/tech_sci_mrc/152.기술과학_문서_기계독해_데이터/01-1.정식개방데이터/Training/01.원천데이터\n",
      "Unzipping /home/kai/workspace/DeepDocs_Project/datalake/source/tech_sci_mrc/152.기술과학_문서_기계독해_데이터/01-1.정식개방데이터/Training/01.원천데이터/TS_자연_NA.zip...\n",
      "Unzipped /home/kai/workspace/DeepDocs_Project/datalake/source/tech_sci_mrc/152.기술과학_문서_기계독해_데이터/01-1.정식개방데이터/Training/01.원천데이터/TS_자연_NA.zip to /home/kai/workspace/DeepDocs_Project/datalake/source/tech_sci_mrc/152.기술과학_문서_기계독해_데이터/01-1.정식개방데이터/Training/01.원천데이터\n",
      "Unzipping /home/kai/workspace/DeepDocs_Project/datalake/source/tech_sci_mrc/152.기술과학_문서_기계독해_데이터/01-1.정식개방데이터/Training/01.원천데이터/TS_생명_LA.zip...\n",
      "Unzipped /home/kai/workspace/DeepDocs_Project/datalake/source/tech_sci_mrc/152.기술과학_문서_기계독해_데이터/01-1.정식개방데이터/Training/01.원천데이터/TS_생명_LA.zip to /home/kai/workspace/DeepDocs_Project/datalake/source/tech_sci_mrc/152.기술과학_문서_기계독해_데이터/01-1.정식개방데이터/Training/01.원천데이터\n",
      "Unzipping /home/kai/workspace/DeepDocs_Project/datalake/source/tech_sci_mrc/152.기술과학_문서_기계독해_데이터/01-1.정식개방데이터/Training/02.라벨링데이터/TL_인공물_ED.zip...\n",
      "Unzipped /home/kai/workspace/DeepDocs_Project/datalake/source/tech_sci_mrc/152.기술과학_문서_기계독해_데이터/01-1.정식개방데이터/Training/02.라벨링데이터/TL_인공물_ED.zip to /home/kai/workspace/DeepDocs_Project/datalake/source/tech_sci_mrc/152.기술과학_문서_기계독해_데이터/01-1.정식개방데이터/Training/02.라벨링데이터\n",
      "Unzipping /home/kai/workspace/DeepDocs_Project/datalake/source/tech_sci_mrc/152.기술과학_문서_기계독해_데이터/01-1.정식개방데이터/Training/02.라벨링데이터/TL_생명_LA.zip...\n",
      "Unzipped /home/kai/workspace/DeepDocs_Project/datalake/source/tech_sci_mrc/152.기술과학_문서_기계독해_데이터/01-1.정식개방데이터/Training/02.라벨링데이터/TL_생명_LA.zip to /home/kai/workspace/DeepDocs_Project/datalake/source/tech_sci_mrc/152.기술과학_문서_기계독해_데이터/01-1.정식개방데이터/Training/02.라벨링데이터\n",
      "Unzipping /home/kai/workspace/DeepDocs_Project/datalake/source/tech_sci_mrc/152.기술과학_문서_기계독해_데이터/01-1.정식개방데이터/Training/02.라벨링데이터/TL_인공물_EE.zip...\n",
      "Unzipped /home/kai/workspace/DeepDocs_Project/datalake/source/tech_sci_mrc/152.기술과학_문서_기계독해_데이터/01-1.정식개방데이터/Training/02.라벨링데이터/TL_인공물_EE.zip to /home/kai/workspace/DeepDocs_Project/datalake/source/tech_sci_mrc/152.기술과학_문서_기계독해_데이터/01-1.정식개방데이터/Training/02.라벨링데이터\n",
      "Unzipping /home/kai/workspace/DeepDocs_Project/datalake/source/tech_sci_mrc/152.기술과학_문서_기계독해_데이터/01-1.정식개방데이터/Training/02.라벨링데이터/TL_자연_NA.zip...\n",
      "Unzipped /home/kai/workspace/DeepDocs_Project/datalake/source/tech_sci_mrc/152.기술과학_문서_기계독해_데이터/01-1.정식개방데이터/Training/02.라벨링데이터/TL_자연_NA.zip to /home/kai/workspace/DeepDocs_Project/datalake/source/tech_sci_mrc/152.기술과학_문서_기계독해_데이터/01-1.정식개방데이터/Training/02.라벨링데이터\n"
     ]
    }
   ],
   "source": [
    "# unzip to \"./\"\n",
    "for file in data:\n",
    "    print(f\"Unzipping {file}...\")\n",
    "    with ZipFile(file, 'r') as zip_ref:\n",
    "        zip_ref.extractall(os.path.dirname(file).replace(src, \"./\"))\n",
    "    print(f\"Unzipped {file} to {os.path.dirname(file)}\")"
   ]
  },
  {
   "cell_type": "code",
   "execution_count": 9,
   "id": "45ddcec1",
   "metadata": {},
   "outputs": [],
   "source": [
    "json_files = glob(\"152.기술과학_문서_기계독해_데이터/**/*.json\", recursive=True)"
   ]
  },
  {
   "cell_type": "code",
   "execution_count": null,
   "id": "18c874d3",
   "metadata": {},
   "outputs": [],
   "source": [
    "import pandas as pd\n",
    "from bs4 import BeautifulSoup\n",
    "import re\n",
    "from tqdm import tqdm\n",
    "def extract_tables(html):\n",
    "    soup = BeautifulSoup(html, \"html.parser\")\n",
    "    for tag in soup([\"style\", \"script\"]):\n",
    "        tag.decompose()\n",
    "\n",
    "    results = []\n",
    "    while True:\n",
    "        all_tables = soup.find_all(\"table\")\n",
    "        if not all_tables:\n",
    "            break\n",
    "\n",
    "        # innermost tables: 더이상 내부 table이 없는 것만 추출\n",
    "        innermost_tables = [t for t in all_tables if not t.find(\"table\")]\n",
    "        if not innermost_tables:\n",
    "            break\n",
    "\n",
    "        for table in innermost_tables:\n",
    "            # 불필요한 속성 제거 (예: border)\n",
    "            if table.attrs is not None:\n",
    "                table.attrs.pop(\"border\", None)\n",
    "\n",
    "            # caption 제거\n",
    "            caption = table.find(\"caption\")\n",
    "            if caption:\n",
    "                caption.decompose()\n",
    "\n",
    "            # 태그 사이 공백 삭제\n",
    "            str_table = re.sub(r'>\\s+<', '><', str(table))\n",
    "\n",
    "            # tds, ths, trs 후처리(특정 속성 제거 등) 필요 시 여기에 추가\n",
    "            # 예시: rowspan=\"1\", colspan=\"1\" 속성 삭제\n",
    "            for tag in table.find_all([\"th\", \"td\", \"tr\"]):\n",
    "                if tag.attrs.get(\"rowspan\") == \"1\":\n",
    "                    tag.attrs.pop(\"rowspan\")\n",
    "                if tag.attrs.get(\"colspan\") == \"1\":\n",
    "                    tag.attrs.pop(\"colspan\")\n",
    "\n",
    "            # 다시 공백 정리(위에서 속성 pop하면서 soup 트리에서 변동됨)\n",
    "            # table이 <table></table>이면 빈 테이블이므로 제외\n",
    "            str_table = re.sub(r'>\\s+<', '><', str(table))\n",
    "            table.extract()  # soup 트리에서 제거(pop)\n",
    "            if str_table.strip() == \"<table></table>\":\n",
    "                continue\n",
    "            results.append(str_table)\n",
    "            \n",
    "    return results"
   ]
  },
  {
   "cell_type": "code",
   "execution_count": null,
   "id": "d0cbc3d2",
   "metadata": {},
   "outputs": [],
   "source": [
    "records = []\n",
    "for json_path in tqdm(json_files):\n",
    "    with open(json_path, \"r\", encoding=\"utf-8\") as f:\n",
    "        data = json.load(f)\n",
    "    for context_info in data['dataset']['context_info']:\n",
    "        context = context_info['context']\n",
    "        tables = extract_tables(context)\n",
    "        if not tables:\n",
    "            continue\n",
    "        for table in tables:\n",
    "            record = {\n",
    "                \"html\": table,\n",
    "            }\n",
    "            records.append(record)\n",
    "df = pd.DataFrame(records)"
   ]
  },
  {
   "cell_type": "code",
   "execution_count": null,
   "id": "aefa667a",
   "metadata": {},
   "outputs": [],
   "source": [
    "df_unique = df.drop_duplicates(subset=['html'])\n",
    "print(f\"Total unique HTML tables: {len(df_unique)}\")\n",
    "print(f\"Total HTML tables: {len(df)}\")"
   ]
  },
  {
   "cell_type": "code",
   "execution_count": null,
   "id": "024e5d3f",
   "metadata": {},
   "outputs": [],
   "source": [
    "df_unique.to_parquet(\"tech_sci_mrc_tables.parquet\", index=False)"
   ]
  },
  {
   "cell_type": "code",
   "execution_count": null,
   "id": "9c8133f4",
   "metadata": {},
   "outputs": [],
   "source": [
    "import asyncio\n",
    "from playwright.async_api import async_playwright\n",
    "async def render_html_and_get_bboxes(html, tags=(\"table\", \"tr\", \"td\", \"p\", \"h1\", \"h2\")):\n",
    "    async with async_playwright() as p:\n",
    "        if not isinstance(html, str):\n",
    "            html = str(html)\n",
    "        browser = await p.chromium.launch()\n",
    "        page = await browser.new_page(viewport={\"width\": 1280, \"height\": 1280})\n",
    "        await page.set_content(html)\n",
    "        await page.evaluate(\"\"\"\n",
    "            () => {\n",
    "                // 기본 스타일 강제 적용\n",
    "                let style = document.createElement('style');\n",
    "                style.textContent = `\n",
    "                    table { border-collapse: collapse; }\n",
    "                    table, th, td { border: 1px solid #333; }\n",
    "                    th, td { padding: 4px; }\n",
    "                `;\n",
    "                document.head.appendChild(style);\n",
    "            }\n",
    "        \"\"\")\n",
    "        await page.wait_for_timeout(100)  # 렌더링 안정화\n",
    "        bboxes = await page.evaluate(\n",
    "            \"\"\"\n",
    "            (tags) => {\n",
    "                let results = [];\n",
    "                tags.forEach(tag => {\n",
    "                    document.querySelectorAll(tag).forEach((el, idx) => {\n",
    "                        let rect = el.getBoundingClientRect();\n",
    "                        results.push({\n",
    "                            tag: tag,\n",
    "                            idx: idx,\n",
    "                            text: el.innerText,\n",
    "                            x: rect.left + window.scrollX,\n",
    "                            y: rect.top + window.scrollY,\n",
    "                            width: rect.width,\n",
    "                            height: rect.height\n",
    "                        });\n",
    "                    });\n",
    "                });\n",
    "                return results;\n",
    "            }\n",
    "            \"\"\",\n",
    "            list(tags)\n",
    "        )\n",
    "        img_bytes = await page.screenshot(full_page=True, type='jpeg')\n",
    "        await browser.close()\n",
    "        return img_bytes, bboxes"
   ]
  },
  {
   "cell_type": "code",
   "execution_count": null,
   "id": "a82d3aea",
   "metadata": {},
   "outputs": [],
   "source": [
    "tables[0]"
   ]
  },
  {
   "cell_type": "code",
   "execution_count": null,
   "id": "a6dfecf3",
   "metadata": {},
   "outputs": [],
   "source": [
    "img_bytes, bboxes = await render_html_and_get_bboxes(tables[0])"
   ]
  },
  {
   "cell_type": "code",
   "execution_count": null,
   "id": "1ebd4534",
   "metadata": {},
   "outputs": [],
   "source": [
    "from PIL import Image, ImageDraw, ImageFont\n",
    "import io\n",
    "img = Image.open(io.BytesIO(img_bytes))\n",
    "draw = ImageDraw.Draw(img)\n",
    "colors = [f\"#{i:02x}{j:02x}00\" for i in range(0, 256, 51) for j in range(0, 256, 51)]\n",
    "for bbox in bboxes:\n",
    "    tag = bbox['tag']\n",
    "    text = bbox['text']\n",
    "    x = bbox['x']\n",
    "    y = bbox['y']\n",
    "    width = bbox['width']\n",
    "    height = bbox['height']\n",
    "    # random outline color\n",
    "    color = colors[bbox['idx'] % len(colors)]\n",
    "    draw.rectangle([x, y, x + width, y + height], outline=color, width=3)"
   ]
  },
  {
   "cell_type": "code",
   "execution_count": null,
   "id": "728216e8",
   "metadata": {},
   "outputs": [],
   "source": [
    "img"
   ]
  }
 ],
 "metadata": {
  "kernelspec": {
   "display_name": "kaiocr",
   "language": "python",
   "name": "python3"
  },
  "language_info": {
   "codemirror_mode": {
    "name": "ipython",
    "version": 3
   },
   "file_extension": ".py",
   "mimetype": "text/x-python",
   "name": "python",
   "nbconvert_exporter": "python",
   "pygments_lexer": "ipython3",
   "version": "3.12.8"
  }
 },
 "nbformat": 4,
 "nbformat_minor": 5
}
