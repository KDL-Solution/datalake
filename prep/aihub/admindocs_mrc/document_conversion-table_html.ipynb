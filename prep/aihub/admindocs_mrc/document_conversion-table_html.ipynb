{
 "cells": [
  {
   "cell_type": "code",
   "execution_count": 2,
   "id": "b44c3f88",
   "metadata": {},
   "outputs": [],
   "source": [
    "import os\n",
    "from glob import glob\n",
    "import shutil\n",
    "from zipfile import ZipFile\n",
    "import json\n",
    "from tqdm import tqdm\n",
    "import pandas as pd\n",
    "src = \"/home/kai/workspace/DeepDocs_Project/datalake/source/admindocs_mrc/016.행정_문서_대상_기계독해_데이터\""
   ]
  },
  {
   "cell_type": "code",
   "execution_count": null,
   "id": "3c1fc360",
   "metadata": {},
   "outputs": [],
   "source": [
    "data = glob(f\"{src}/**/*.zip\", recursive=True)"
   ]
  },
  {
   "cell_type": "code",
   "execution_count": null,
   "id": "b9c1ff0c",
   "metadata": {},
   "outputs": [],
   "source": [
    "# unzip to \"./\"\n",
    "for file in data:\n",
    "    print(f\"Unzipping {file}...\")\n",
    "    with ZipFile(file, 'r') as zip_ref:\n",
    "        zip_ref.extractall(os.path.dirname(file).replace(src, \"./\"))\n",
    "    print(f\"Unzipped {file} to {os.path.dirname(file)}\")"
   ]
  },
  {
   "cell_type": "code",
   "execution_count": null,
   "id": "e1a01d56",
   "metadata": {},
   "outputs": [],
   "source": [
    "json_files = glob(\"01.데이터/**/*.json\", recursive=True)"
   ]
  },
  {
   "cell_type": "code",
   "execution_count": null,
   "id": "958b7650",
   "metadata": {},
   "outputs": [],
   "source": [
    "from bs4 import BeautifulSoup\n",
    "def extract_tables_with_thead(html):\n",
    "    soup = BeautifulSoup(html, \"html.parser\")\n",
    "    tables = soup.find_all(\"table\")\n",
    "    results = []\n",
    "    for table in tables:\n",
    "        results.append(str(table))\n",
    "    return results"
   ]
  },
  {
   "cell_type": "code",
   "execution_count": null,
   "id": "a33972b4",
   "metadata": {},
   "outputs": [],
   "source": [
    "records = []\n",
    "for json_path in json_files:\n",
    "    with open(json_path, \"r\", encoding=\"utf-8\") as f:\n",
    "        data = json.load(f)\n",
    "    \n",
    "    for item in tqdm(data['data']):\n",
    "        for paragraph in item['paragraphs']:\n",
    "            html = paragraph['context']\n",
    "            tables = extract_tables_with_thead(html)\n",
    "            if not tables:\n",
    "                continue\n",
    "            for table in tables:\n",
    "                record = {\n",
    "                    \"html\": table,\n",
    "                }\n",
    "                records.append(record)\n",
    "df = pd.DataFrame(records)"
   ]
  },
  {
   "cell_type": "code",
   "execution_count": null,
   "id": "8f41cb3b",
   "metadata": {},
   "outputs": [],
   "source": [
    "# df에서 html이 중복인거 제거후 개수\n",
    "df_unique = df.drop_duplicates(subset=['html'])\n",
    "print(f\"Total unique HTML tables: {len(df_unique)}\")\n",
    "print(f\"Total HTML tables: {len(df)}\")"
   ]
  },
  {
   "cell_type": "code",
   "execution_count": null,
   "id": "849bc35d",
   "metadata": {},
   "outputs": [],
   "source": [
    "df_unique.to_parquet(\"admindocs_mrc_tables.parquet\", index=False)"
   ]
  },
  {
   "cell_type": "code",
   "execution_count": null,
   "id": "50ec8662",
   "metadata": {},
   "outputs": [],
   "source": [
    "r\"\\\\\""
   ]
  },
  {
   "cell_type": "code",
   "execution_count": null,
   "id": "2a99a27f",
   "metadata": {},
   "outputs": [],
   "source": [
    "#df_unique['html'] 에 '\\\\' 이 있는것만 \n",
    "df_unique[df_unique['html'].str.contains(\"\\\\\\\\\")]"
   ]
  },
  {
   "cell_type": "code",
   "execution_count": null,
   "id": "f63e7571",
   "metadata": {},
   "outputs": [],
   "source": [
    "import asyncio\n",
    "from playwright.async_api import async_playwright\n",
    "async def render_html_and_get_bboxes(html, tags=(\"table\", \"tr\", \"td\", \"p\", \"h1\", \"h2\")):\n",
    "    async with async_playwright() as p:\n",
    "        if not isinstance(html, str):\n",
    "            html = str(html)\n",
    "        browser = await p.chromium.launch()\n",
    "        page = await browser.new_page(viewport={\"width\": 1280, \"height\": 1280})\n",
    "        await page.set_content(html)\n",
    "        await page.evaluate(\"\"\"\n",
    "            () => {\n",
    "                // 기본 스타일 강제 적용\n",
    "                let style = document.createElement('style');\n",
    "                style.textContent = `\n",
    "                    table { border-collapse: collapse; }\n",
    "                    table, th, td { border: 1px solid #333; }\n",
    "                    th, td { padding: 4px; }\n",
    "                `;\n",
    "                document.head.appendChild(style);\n",
    "            }\n",
    "        \"\"\")\n",
    "        await page.wait_for_timeout(100)  # 렌더링 안정화\n",
    "        bboxes = await page.evaluate(\n",
    "            \"\"\"\n",
    "            (tags) => {\n",
    "                let results = [];\n",
    "                tags.forEach(tag => {\n",
    "                    document.querySelectorAll(tag).forEach((el, idx) => {\n",
    "                        let rect = el.getBoundingClientRect();\n",
    "                        results.push({\n",
    "                            tag: tag,\n",
    "                            idx: idx,\n",
    "                            text: el.innerText,\n",
    "                            x: rect.left + window.scrollX,\n",
    "                            y: rect.top + window.scrollY,\n",
    "                            width: rect.width,\n",
    "                            height: rect.height\n",
    "                        });\n",
    "                    });\n",
    "                });\n",
    "                return results;\n",
    "            }\n",
    "            \"\"\",\n",
    "            list(tags)\n",
    "        )\n",
    "        img = await page.screenshot(full_page=True, type='jpeg')\n",
    "        await browser.close()\n",
    "        return img, bboxes"
   ]
  },
  {
   "cell_type": "code",
   "execution_count": null,
   "id": "6d1f453e",
   "metadata": {},
   "outputs": [],
   "source": [
    "# img_bytes, bboxes = await render_html_and_get_bboxes(str(tables[0]))"
   ]
  },
  {
   "cell_type": "code",
   "execution_count": null,
   "id": "6c14ebda",
   "metadata": {},
   "outputs": [],
   "source": [
    "# from PIL import Image, ImageDraw, ImageFont\n",
    "# import io\n",
    "# img = Image.open(io.BytesIO(img_bytes))\n",
    "# draw = ImageDraw.Draw(img)\n",
    "# colors = [f\"#{i:02x}{j:02x}00\" for i in range(0, 256, 51) for j in range(0, 256, 51)]\n",
    "# for bbox in bboxes:\n",
    "#     tag = bbox['tag']\n",
    "#     text = bbox['text']\n",
    "#     x = bbox['x']\n",
    "#     y = bbox['y']\n",
    "#     width = bbox['width']\n",
    "#     height = bbox['height']\n",
    "#     # random outline color\n",
    "#     color = colors[bbox['idx'] % len(colors)]\n",
    "#     draw.rectangle([x, y, x + width, y + height], outline=color, width=3)\n",
    "#     # draw.text((x + 5, y + 5), f\"{tag}\", fill=\"blue\", font=ImageFont.load_default(size=20))"
   ]
  },
  {
   "cell_type": "code",
   "execution_count": null,
   "id": "348741e8",
   "metadata": {},
   "outputs": [],
   "source": [
    "# import ipywidgets as widgets\n",
    "# from PIL import Image, ImageDraw, ImageFont\n",
    "# import matplotlib.pyplot as plt\n",
    "# from io import BytesIO\n",
    "\n",
    "# img = Image.open(io.BytesIO(img_bytes))\n",
    "# bboxes = sorted(bboxes, key=lambda x: (x['y'], x['x']))  # y, x 순으로 정렬\n",
    "# def show_bbox(idx):\n",
    "#     im = img.copy()\n",
    "#     draw = ImageDraw.Draw(im)\n",
    "#     bbox = bboxes[idx]\n",
    "#     tag = bbox['tag']\n",
    "#     x = bbox['x']\n",
    "#     y = bbox['y']\n",
    "#     width = bbox['width']\n",
    "#     height = bbox['height']\n",
    "#     color = \"red\"\n",
    "#     draw.rectangle([x, y, x + width, y + height], outline=color, width=3)\n",
    "#     display(im)\n"
   ]
  },
  {
   "cell_type": "code",
   "execution_count": null,
   "id": "4786826a",
   "metadata": {},
   "outputs": [],
   "source": [
    "\n",
    "# # 슬라이더 위젯\n",
    "# slider = widgets.IntSlider(value=0, min=0, max=len(bboxes)-1, step=1, description='BBox')\n",
    "\n",
    "# widgets.interact(show_bbox, idx=slider)"
   ]
  }
 ],
 "metadata": {
  "kernelspec": {
   "display_name": "kaiocr",
   "language": "python",
   "name": "python3"
  },
  "language_info": {
   "codemirror_mode": {
    "name": "ipython",
    "version": 3
   },
   "file_extension": ".py",
   "mimetype": "text/x-python",
   "name": "python",
   "nbconvert_exporter": "python",
   "pygments_lexer": "ipython3",
   "version": "3.12.8"
  }
 },
 "nbformat": 4,
 "nbformat_minor": 5
}
