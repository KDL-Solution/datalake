{
 "cells": [
  {
   "cell_type": "code",
   "execution_count": 1,
   "id": "b3de1d9c",
   "metadata": {},
   "outputs": [],
   "source": [
    "import os\n",
    "from glob import glob\n",
    "import shutil\n",
    "import json\n",
    "from tqdm import tqdm\n",
    "import pandas as pd\n",
    "from pathlib import Path\n",
    "import jsonlines\n",
    "import hashlib\n",
    "import re\n",
    "from PIL import Image\n",
    "src = \"/home/kai/workspace/DeepDocs_Project/datalake/source/dataset=post_handwritten_plain_text\""
   ]
  },
  {
   "cell_type": "code",
   "execution_count": 2,
   "id": "c6dd10d2",
   "metadata": {},
   "outputs": [],
   "source": [
    "images = glob(os.path.join(src, \"images\", \"*.*g\"))\n",
    "jsonl_path = glob(os.path.join(src, \"*.jsonl\"))[0]"
   ]
  },
  {
   "cell_type": "code",
   "execution_count": 3,
   "id": "f05615de",
   "metadata": {},
   "outputs": [
    {
     "data": {
      "text/plain": [
       "'/home/kai/workspace/DeepDocs_Project/datalake/source/dataset=post_handwritten_plain_text/metadata.jsonl'"
      ]
     },
     "execution_count": 3,
     "metadata": {},
     "output_type": "execute_result"
    }
   ],
   "source": [
    "jsonl_path"
   ]
  },
  {
   "cell_type": "code",
   "execution_count": 4,
   "id": "d8d190ac",
   "metadata": {},
   "outputs": [],
   "source": [
    "with jsonlines.open(jsonl_path, mode='r') as reader:\n",
    "    data = [obj for obj in reader]"
   ]
  },
  {
   "cell_type": "code",
   "execution_count": 6,
   "id": "935263c7",
   "metadata": {},
   "outputs": [],
   "source": [
    "import numpy as np\n",
    "from PIL import Image\n",
    "def get_safe_image_hash(path):\n",
    "    img = Image.open(path).convert(\"RGB\")\n",
    "    arr = np.array(img)\n",
    "    meta = f\"{arr.shape}{arr.dtype}\".encode()\n",
    "    return hashlib.sha256(arr.tobytes() + meta).hexdigest()\n",
    "\n",
    "def get_safe_image_hash_from_pil(img: Image.Image) -> str:\n",
    "    arr = np.array(img.convert(\"RGB\"))\n",
    "    meta = f\"{arr.shape}{arr.dtype}\".encode()\n",
    "    return hashlib.sha256(arr.tobytes() + meta).hexdigest()"
   ]
  },
  {
   "cell_type": "code",
   "execution_count": 7,
   "id": "f35924ad",
   "metadata": {},
   "outputs": [
    {
     "name": "stderr",
     "output_type": "stream",
     "text": [
      "  0%|          | 0/507 [00:00<?, ?it/s]"
     ]
    },
    {
     "name": "stderr",
     "output_type": "stream",
     "text": [
      " 11%|█         | 57/507 [00:10<01:00,  7.42it/s]"
     ]
    },
    {
     "name": "stdout",
     "output_type": "stream",
     "text": [
      "Image 0000.jpg not found in source directory.\n"
     ]
    },
    {
     "name": "stderr",
     "output_type": "stream",
     "text": [
      "100%|██████████| 507/507 [01:51<00:00,  4.55it/s]\n"
     ]
    }
   ],
   "source": [
    "records = []\n",
    "MAX_SIZE = 2048\n",
    "os.makedirs(\"images\", exist_ok=True)\n",
    "for d_ in tqdm(data):\n",
    "    file_name = d_['file_name']\n",
    "    gts = json.loads(d_['ground_truth'])['gt_parse']['주소 정보']\n",
    "    label = {\"address\": []}\n",
    "    for gt_ in gts:\n",
    "        gt = gt_[list(gt_.keys())[0]]\n",
    "        text = gt['도로명 주소'].strip()\n",
    "        label['address'].append({\n",
    "            \"<|value|>\": text,\n",
    "        })\n",
    "    if not os.path.exists(os.path.join(src, \"images\", file_name)):\n",
    "        print(f\"Image {file_name} not found in source directory.\")\n",
    "        continue\n",
    "    image = Image.open(os.path.join(src, \"images\", file_name))\n",
    "    \n",
    "    width, height = image.size\n",
    "    scale = min(MAX_SIZE / width, MAX_SIZE / height)\n",
    "    if scale < 1:\n",
    "        new_size = (int(width * scale), int(height * scale))\n",
    "        image = image.resize(new_size, Image.LANCZOS)\n",
    "    width, height = image.size\n",
    "    hash = get_safe_image_hash_from_pil(image)\n",
    "    image_basename = hash + \".jpg\"\n",
    "    image.save(os.path.join(\"images\", image_basename), quality=95, subsampling=0)\n",
    "    records.append({\n",
    "        \"image_path\": image_basename,\n",
    "        \"width\": width,\n",
    "        \"height\": height,\n",
    "        \"label\": json.dumps(label, ensure_ascii=False),\n",
    "    })"
   ]
  },
  {
   "cell_type": "code",
   "execution_count": 8,
   "id": "818a911a",
   "metadata": {},
   "outputs": [
    {
     "data": {
      "text/plain": [
       "506"
      ]
     },
     "execution_count": 8,
     "metadata": {},
     "output_type": "execute_result"
    }
   ],
   "source": [
    "len(os.listdir(\"images\"))"
   ]
  },
  {
   "cell_type": "code",
   "execution_count": 9,
   "id": "e187f9db",
   "metadata": {},
   "outputs": [],
   "source": [
    "df = pd.DataFrame(records)"
   ]
  },
  {
   "cell_type": "code",
   "execution_count": 10,
   "id": "16a14cb5",
   "metadata": {},
   "outputs": [],
   "source": [
    "df.to_parquet(\"data.parquet\", index=False)"
   ]
  }
 ],
 "metadata": {
  "kernelspec": {
   "display_name": "kaiocr",
   "language": "python",
   "name": "python3"
  },
  "language_info": {
   "codemirror_mode": {
    "name": "ipython",
    "version": 3
   },
   "file_extension": ".py",
   "mimetype": "text/x-python",
   "name": "python",
   "nbconvert_exporter": "python",
   "pygments_lexer": "ipython3",
   "version": "3.12.8"
  }
 },
 "nbformat": 4,
 "nbformat_minor": 5
}
