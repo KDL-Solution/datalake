{
 "cells": [
  {
   "cell_type": "code",
   "execution_count": null,
   "id": "e2c2cc2d",
   "metadata": {},
   "outputs": [],
   "source": [
    "from datasets import load_from_disk\n",
    "from PIL import Image\n",
    "import os\n",
    "import numpy as np\n",
    "import pandas as pd\n",
    "import ipywidgets as widgets\n",
    "from IPython.display import display\n",
    "import io\n",
    "import base64\n",
    "import cv2\n",
    "import json\n",
    "from tqdm import tqdm\n",
    "src = \"/home/kai/workspace/DeepDocs_Project/datalake/source/finance_legal_mrc_merged_table\""
   ]
  },
  {
   "cell_type": "code",
   "execution_count": null,
   "id": "7a2fb08b",
   "metadata": {},
   "outputs": [],
   "source": [
    "ds = load_from_disk(src)"
   ]
  },
  {
   "cell_type": "code",
   "execution_count": null,
   "id": "f36f4cb2",
   "metadata": {},
   "outputs": [],
   "source": [
    "ds"
   ]
  },
  {
   "cell_type": "code",
   "execution_count": null,
   "id": "00d19119",
   "metadata": {},
   "outputs": [],
   "source": [
    "import hashlib\n",
    "\n",
    "def get_sha256_size(img_input):\n",
    "    \"\"\"\n",
    "    img_input: 파일 경로(str) 또는 PIL.Image.Image 객체 모두 지원\n",
    "    리턴: (hash, width, height)\n",
    "    \"\"\"\n",
    "    if isinstance(img_input, str):\n",
    "        img = Image.open(img_input).convert(\"RGB\")\n",
    "    elif isinstance(img_input, Image.Image):\n",
    "        img = img_input.convert(\"RGB\")\n",
    "    else:\n",
    "        raise ValueError(\"img_input은 파일 경로나 PIL.Image 객체여야 합니다.\")\n",
    "    width, height = img.size\n",
    "    arr = np.array(img)\n",
    "    hash_val = hashlib.sha256(\n",
    "        arr.tobytes() + str(arr.shape).encode() + str(arr.dtype).encode()\n",
    "    ).hexdigest()\n",
    "    return hash_val, width, height"
   ]
  },
  {
   "cell_type": "code",
   "execution_count": null,
   "id": "9b4d9836",
   "metadata": {},
   "outputs": [],
   "source": [
    "from bs4 import BeautifulSoup\n",
    "def extract_tables_with_thead(html):\n",
    "    soup = BeautifulSoup(html, \"html.parser\")\n",
    "    tables = soup.find_all(\"table\")\n",
    "    for tag in soup([\"style\", \"script\"]):\n",
    "        tag.decompose()\n",
    "    results = []\n",
    "    for table in tables:\n",
    "        tds = table.find_all(\"th\", attrs={\"rowspan\": \"1\", \"colspan\": \"1\"})\n",
    "        tds += table.find_all(\"td\", attrs={\"rowspan\": \"1\", \"colspan\": \"1\"})\n",
    "        tds += table.find_all(\"tr\", attrs={\"rowspan\": \"1\", \"colspan\": \"1\"})\n",
    "        for td in tds:\n",
    "            td.attrs.pop(\"rowspan\", None)\n",
    "            td.attrs.pop(\"colspan\", None)\n",
    "        for tag in table.find_all(True):\n",
    "            if tag.string:\n",
    "                tag.string = tag.get_text(strip=True)\n",
    "                tag.string = tag.string.replace(\"\\u3000\", \"\")\n",
    "                tag.string = tag.string.replace(\"\\u200b\", \"\")\n",
    "            \n",
    "        results.append(str(table))\n",
    "    return results"
   ]
  },
  {
   "cell_type": "code",
   "execution_count": null,
   "id": "bb678935",
   "metadata": {},
   "outputs": [],
   "source": [
    "records = []\n",
    "images_dir = \"./images\"\n",
    "\n",
    "for row in tqdm(ds):\n",
    "    image = row[\"image\"]\n",
    "    table_title = row[\"table_title\"]\n",
    "    table_html = row[\"table_html\"]\n",
    "    \n",
    "    table = extract_tables_with_thead(table_html)\n",
    "    if len(table) != 1:\n",
    "        print(f\"Error: {len(table)} tables found in {table_title}\")\n",
    "        continue\n",
    "    table = table[0]\n",
    "    \n",
    "    hash_val, width, height = get_sha256_size(image)\n",
    "    image_path = os.path.join(images_dir, f\"{hash_val}.jpg\")    \n",
    "    image.convert(\"RGB\").save(image_path, format=\"jpeg\")\n",
    "    \n",
    "    \n",
    "    records.append({\n",
    "        \"image_path\": image_path.replace(images_dir + \"/\", \"\"),\n",
    "        \"width\": width,\n",
    "        \"height\": height,\n",
    "        \"label\": table,\n",
    "    })"
   ]
  },
  {
   "cell_type": "code",
   "execution_count": null,
   "id": "6380f975",
   "metadata": {},
   "outputs": [],
   "source": [
    "df = pd.DataFrame(records)"
   ]
  },
  {
   "cell_type": "code",
   "execution_count": null,
   "id": "a95898b5",
   "metadata": {},
   "outputs": [],
   "source": [
    "df_cleaned = df.drop_duplicates(subset=[\"image_path\"], keep='first')\n",
    "df_cleaned = df.drop_duplicates(subset=[\"label\"], keep='first')\n",
    "df_cleaned = df_cleaned.reset_index(drop=True)"
   ]
  },
  {
   "cell_type": "code",
   "execution_count": null,
   "id": "d7ab90de",
   "metadata": {},
   "outputs": [],
   "source": [
    "df.to_parquet(\"finance_legal_mrc_merged_table.parquet\", index=False)"
   ]
  },
  {
   "cell_type": "code",
   "execution_count": null,
   "id": "b1dd1743",
   "metadata": {},
   "outputs": [],
   "source": [
    "len(df_cleaned)"
   ]
  }
 ],
 "metadata": {
  "kernelspec": {
   "display_name": "kaiocr",
   "language": "python",
   "name": "python3"
  },
  "language_info": {
   "codemirror_mode": {
    "name": "ipython",
    "version": 3
   },
   "file_extension": ".py",
   "mimetype": "text/x-python",
   "name": "python",
   "nbconvert_exporter": "python",
   "pygments_lexer": "ipython3",
   "version": "3.12.8"
  }
 },
 "nbformat": 4,
 "nbformat_minor": 5
}
