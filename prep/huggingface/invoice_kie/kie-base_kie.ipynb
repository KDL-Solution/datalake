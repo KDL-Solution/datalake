{
 "cells": [
  {
   "cell_type": "code",
   "execution_count": null,
   "id": "1a7e3293",
   "metadata": {},
   "outputs": [],
   "source": [
    "import json\n",
    "import hashlib\n",
    "from datasets import load_from_disk, load_dataset, concatenate_datasets\n",
    "import io\n",
    "import pandas as pd\n",
    "from tqdm import tqdm\n",
    "import matplotlib.pyplot as plt\n",
    "from PIL import Image\n",
    "import os\n",
    "\n",
    "src = \"/mnt/AI_NAS/datalake/source/provider=huggingface/invoice_kie\"\n",
    "src_add = src + \"/add\""
   ]
  },
  {
   "cell_type": "code",
   "execution_count": null,
   "id": "b73f381c",
   "metadata": {},
   "outputs": [],
   "source": [
    "ds = load_from_disk(src)\n",
    "ds_add = load_from_disk(src_add)"
   ]
  },
  {
   "cell_type": "code",
   "execution_count": null,
   "id": "20f181f1",
   "metadata": {},
   "outputs": [],
   "source": [
    "records = []\n",
    "MAX_SIZE = 2048\n",
    "os.makedirs(\"images\", exist_ok=True)\n",
    "for data in tqdm(ds, desc=\"Processing dataset\"):\n",
    "    img = data['file']\n",
    "    label = eval(data['data'])\n",
    "    \n",
    "    scale = min(MAX_SIZE / img.width, MAX_SIZE / img.height)\n",
    "    if scale < 1:\n",
    "        img = img.resize((int(img.width * scale), int(img.height * scale)), resample=Image.Resampling.LANCZOS)\n",
    "    \n",
    "    buf = io.BytesIO()\n",
    "    img.save(buf, format='JPEG')\n",
    "    byte_data = buf.getvalue()\n",
    "    hash_val = hashlib.sha256(byte_data).hexdigest()\n",
    "    img_path = hash_val + \".jpg\"\n",
    "    output_path = \"images/\" + img_path\n",
    "    img.save(output_path, format='JPEG')\n",
    "    records.append({\n",
    "        \"image_path\": img_path,\n",
    "        \"width\": img.width,   \n",
    "        \"height\": img.height,\n",
    "        \"label\": json.dumps(label, ensure_ascii=False),\n",
    "    })\n",
    "        \n",
    "df = pd.DataFrame(records)"
   ]
  },
  {
   "cell_type": "code",
   "execution_count": null,
   "id": "a3be3579",
   "metadata": {},
   "outputs": [],
   "source": [
    "records = []\n",
    "MAX_SIZE = 2048\n",
    "for data in tqdm(ds_add, desc=\"Processing dataset\"):\n",
    "    img = data['image']\n",
    "    label_ = data['json']\n",
    "    \n",
    "    label = {\n",
    "        'items': [],\n",
    "        'total': label_['Closing Balance']\n",
    "    }\n",
    "    for item in label_['Transactions']:\n",
    "        label['items'].append({\n",
    "            'amount': item['Amount'],\n",
    "            'date': item['Date'],\n",
    "            'ref': item['Ref'],\n",
    "        })\n",
    "    \n",
    "    scale = min(MAX_SIZE / img.width, MAX_SIZE / img.height)\n",
    "    if scale < 1:\n",
    "        img = img.resize((int(img.width * scale), int(img.height * scale)), resample=Image.Resampling.LANCZOS)\n",
    "    \n",
    "    buf = io.BytesIO()\n",
    "    img.save(buf, format='JPEG')\n",
    "    byte_data = buf.getvalue()\n",
    "    hash_val = hashlib.sha256(byte_data).hexdigest()\n",
    "    img_path = hash_val + \".jpg\"\n",
    "    os.makedirs(\"images\", exist_ok=True)\n",
    "    output_path = \"images/\" + img_path\n",
    "    img.save(output_path, format='JPEG')\n",
    "    records.append({\n",
    "        \"image_path\": img_path,\n",
    "        \"width\": img.width,   \n",
    "        \"height\": img.height,\n",
    "        \"label\": json.dumps(label, ensure_ascii=False),\n",
    "    })\n",
    "        \n",
    "df_add = pd.DataFrame(records)"
   ]
  },
  {
   "cell_type": "code",
   "execution_count": null,
   "id": "0a7e353b",
   "metadata": {},
   "outputs": [],
   "source": [
    "pd.read_parquet(\"/mnt/AI_NAS/datalake/catalog/provider=huggingface/dataset=invoice_kie/task=kie/variant=kie_struct/lang=en/src=real/data.parquet\")"
   ]
  },
  {
   "cell_type": "code",
   "execution_count": null,
   "id": "12631e15",
   "metadata": {},
   "outputs": [],
   "source": [
    "pd.concat([df, df_add]).to_parquet(\"invoice_kie.parquet\", index=False)"
   ]
  }
 ],
 "metadata": {
  "kernelspec": {
   "display_name": "kaiocr",
   "language": "python",
   "name": "python3"
  },
  "language_info": {
   "codemirror_mode": {
    "name": "ipython",
    "version": 3
   },
   "file_extension": ".py",
   "mimetype": "text/x-python",
   "name": "python",
   "nbconvert_exporter": "python",
   "pygments_lexer": "ipython3",
   "version": "3.12.8"
  }
 },
 "nbformat": 4,
 "nbformat_minor": 5
}
