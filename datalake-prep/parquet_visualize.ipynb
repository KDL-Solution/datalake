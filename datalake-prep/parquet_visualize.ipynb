{
 "cells": [
  {
   "cell_type": "code",
   "execution_count": 1,
   "metadata": {},
   "outputs": [],
   "source": [
    "from utils import KIEVisualizer"
   ]
  },
  {
   "cell_type": "code",
   "execution_count": null,
   "metadata": {},
   "outputs": [
    {
     "data": {
      "application/vnd.jupyter.widget-view+json": {
       "model_id": "36b4665105a043698ad804c171a8b29c",
       "version_major": 2,
       "version_minor": 0
      },
      "text/plain": [
       "interactive(children=(IntSlider(value=0, continuous_update=False, description='i', max=27967), Output()), _dom…"
      ]
     },
     "metadata": {},
     "output_type": "display_data"
    }
   ],
   "source": [
    "vis = KIEVisualizer(\n",
    "    parquet_path=\"/home/ian/workspace/data/datalake/processed_realkie_data/data.parquet\",\n",
    "    base_dir=\"/home/ian/workspace/data/datalake/processed_realkie_data\",\n",
    "    margin=500,\n",
    ")\n",
    "vis.render()"
   ]
  },
  {
   "cell_type": "code",
   "execution_count": 3,
   "metadata": {},
   "outputs": [],
   "source": [
    "import ast, json, pandas as pd, matplotlib.pyplot as plt, matplotlib.patches as patches\n",
    "from pathlib import Path\n",
    "from PIL import Image\n",
    "import ipywidgets as widgets\n",
    "from matplotlib import font_manager  # ✅ 폰트 설정 추가\n",
    "\n",
    "class KIEVisualizer:\n",
    "    def __init__(self, parquet_path, base_dir=None, margin=450, font_path=None):\n",
    "        self.df = pd.read_parquet(parquet_path)\n",
    "        self.base = Path(base_dir or Path(parquet_path).parent)\n",
    "        self.margin = margin\n",
    "        self.key_c = (0.9, 0.1, 0.1)   # key box 색\n",
    "        self.val_c = (0.1, 0.1, 0.9)   # value box 색\n",
    "\n",
    "        # ✅ 폰트 프로퍼티 설정 (없으면 None)\n",
    "        if font_path:\n",
    "            self.font_prop = font_manager.FontProperties(fname=font_path)\n",
    "        else:\n",
    "            self.font_prop = None\n",
    "\n",
    "    @staticmethod\n",
    "    def _loads(raw):\n",
    "        if isinstance(raw, (dict, list)):\n",
    "            return raw\n",
    "        try:\n",
    "            return ast.literal_eval(raw)\n",
    "        except (ValueError, SyntaxError):\n",
    "            try:\n",
    "                return json.loads(raw)\n",
    "            except json.JSONDecodeError:\n",
    "                return {}\n",
    "\n",
    "    def _triples(self, d):\n",
    "        for cls_name, vs in d.items():\n",
    "            if not vs or cls_name == \"Unknown\":\n",
    "                continue\n",
    "            if isinstance(vs, dict):\n",
    "                vs = [vs]\n",
    "            for v in vs:\n",
    "                if not isinstance(v, dict):\n",
    "                    continue\n",
    "                bb = v.get(\"<|bbox|>\", v.get(\"bbox\"))\n",
    "                if bb and len(bb) == 4 and any(bb):\n",
    "                    yield cls_name, v.get(\"<|value|>\", v.get(\"value\", \"\")), bb\n",
    "\n",
    "    def _img_path(self, rel):\n",
    "        p = Path(rel)\n",
    "        return p if p.is_absolute() else (self.base / p).resolve()\n",
    "\n",
    "    def _draw(self, idx):\n",
    "        row = self.df.iloc[idx]\n",
    "        img = Image.open(self._img_path(row[\"image_path\"]))\n",
    "        W, H = img.size\n",
    "\n",
    "        fig, ax = plt.subplots(figsize=(10, 10 * H / (W + self.margin)))\n",
    "        ax.imshow(img)\n",
    "        ax.set_xlim(0, W + self.margin)\n",
    "        ax.set_ylim(H, 0)\n",
    "        ax.set_facecolor('white')\n",
    "\n",
    "        label_dict = self._loads(row[\"label\"])\n",
    "        if isinstance(label_dict, dict) and \"post_office\" in label_dict:\n",
    "            label_dict = label_dict[\"post_office\"]\n",
    "\n",
    "        for k, v, bb in self._triples(label_dict):\n",
    "            x1, y1, x2, y2 = bb[0]*W, bb[1]*H, bb[2]*W, bb[3]*H\n",
    "            ax.add_patch(\n",
    "                patches.Rectangle((x1, y1), x2-x1, y2-y1,\n",
    "                                  lw=2, ec=self.val_c, fc='none')\n",
    "            )\n",
    "            if v:\n",
    "                ax.text(x1, y1-3, str(v), color='white', fontsize=8,\n",
    "                        fontproperties=self.font_prop,  # ✅ 한글 텍스트 대응\n",
    "                        bbox=dict(boxstyle='round,pad=0.2',\n",
    "                                  fc=self.val_c, ec=self.val_c, alpha=0.7))\n",
    "            tx = W + 20\n",
    "            txt = ax.text(tx, (y1+y2)/2, k, color='white', fontsize=9,\n",
    "                          fontproperties=self.font_prop,  # ✅ 한글 클래스명 대응\n",
    "                          bbox=dict(boxstyle='round,pad=0.3',\n",
    "                                    fc=self.key_c, ec=self.key_c))\n",
    "            bb_key = txt.get_window_extent(fig.canvas.get_renderer())\n",
    "            kx, ky = ax.transData.inverted().transform((bb_key.x0, bb_key.y0))\n",
    "            ax.annotate('', xy=((x1+x2)/2, (y1+y2)/2), xytext=(kx, ky),\n",
    "                        arrowprops=dict(arrowstyle='-|>', color=self.val_c))\n",
    "        ax.axis('off')\n",
    "        plt.show()\n",
    "\n",
    "    def render(self):\n",
    "        slider = widgets.IntSlider(\n",
    "            value=0,\n",
    "            min=0,\n",
    "            max=len(self.df)-1,\n",
    "            step=1,\n",
    "            continuous_update=False,\n",
    "            description='index'\n",
    "        )\n",
    "        return widgets.interact(lambda idx: self._draw(idx), idx=slider)"
   ]
  },
  {
   "cell_type": "code",
   "execution_count": 3,
   "metadata": {},
   "outputs": [
    {
     "ename": "TypeError",
     "evalue": "KIEVisualizer.__init__() got an unexpected keyword argument 'font_path'",
     "output_type": "error",
     "traceback": [
      "\u001b[0;31m---------------------------------------------------------------------------\u001b[0m",
      "\u001b[0;31mTypeError\u001b[0m                                 Traceback (most recent call last)",
      "Cell \u001b[0;32mIn[3], line 1\u001b[0m\n\u001b[0;32m----> 1\u001b[0m viz \u001b[38;5;241m=\u001b[39m \u001b[43mKIEVisualizer\u001b[49m\u001b[43m(\u001b[49m\n\u001b[1;32m      2\u001b[0m \u001b[43m    \u001b[49m\u001b[38;5;124;43m\"\u001b[39;49m\u001b[38;5;124;43m/home/ian/workspace/data/datalake/postoffice_labeling/parquet/data.parquet\u001b[39;49m\u001b[38;5;124;43m\"\u001b[39;49m\u001b[43m,\u001b[49m\n\u001b[1;32m      3\u001b[0m \u001b[43m    \u001b[49m\u001b[43mbase_dir\u001b[49m\u001b[38;5;241;43m=\u001b[39;49m\u001b[38;5;124;43m\"\u001b[39;49m\u001b[38;5;124;43m/home/ian/workspace/data/datalake/postoffice_labeling\u001b[39;49m\u001b[38;5;124;43m\"\u001b[39;49m\u001b[43m,\u001b[49m\n\u001b[1;32m      4\u001b[0m \u001b[43m    \u001b[49m\u001b[43mfont_path\u001b[49m\u001b[38;5;241;43m=\u001b[39;49m\u001b[38;5;124;43m\"\u001b[39;49m\u001b[38;5;124;43m/home/ian/workspace/data/datalake/NotoSansKR-Medium.ttf\u001b[39;49m\u001b[38;5;124;43m\"\u001b[39;49m\u001b[43m  \u001b[49m\u001b[38;5;66;43;03m# ✅ 꼭 지정\u001b[39;49;00m\n\u001b[1;32m      5\u001b[0m \u001b[43m)\u001b[49m\n\u001b[1;32m      6\u001b[0m viz\u001b[38;5;241m.\u001b[39mrender()\n",
      "\u001b[0;31mTypeError\u001b[0m: KIEVisualizer.__init__() got an unexpected keyword argument 'font_path'"
     ]
    }
   ],
   "source": [
    "viz = KIEVisualizer(\n",
    "    \"/home/ian/workspace/data/datalake/postoffice_labeling/parquet/data.parquet\",\n",
    "    base_dir=\"/home/ian/workspace/data/datalake/postoffice_labeling\",\n",
    "    font_path=\"/home/ian/workspace/data/datalake/NotoSansKR-Medium.ttf\"  # ✅ 꼭 지정\n",
    ")\n",
    "viz.render()"
   ]
  },
  {
   "cell_type": "code",
   "execution_count": null,
   "metadata": {},
   "outputs": [],
   "source": []
  }
 ],
 "metadata": {
  "kernelspec": {
   "display_name": "play",
   "language": "python",
   "name": "python3"
  },
  "language_info": {
   "codemirror_mode": {
    "name": "ipython",
    "version": 3
   },
   "file_extension": ".py",
   "mimetype": "text/x-python",
   "name": "python",
   "nbconvert_exporter": "python",
   "pygments_lexer": "ipython3",
   "version": "3.10.15"
  }
 },
 "nbformat": 4,
 "nbformat_minor": 2
}
