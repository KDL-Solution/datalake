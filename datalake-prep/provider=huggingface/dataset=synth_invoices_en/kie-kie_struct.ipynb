{
 "cells": [
  {
   "cell_type": "code",
   "execution_count": null,
   "id": "44f3f474",
   "metadata": {},
   "outputs": [],
   "source": [
    "import json\n",
    "import hashlib\n",
    "from datasets import load_from_disk, load_dataset, concatenate_datasets\n",
    "import io\n",
    "import pandas as pd\n",
    "from tqdm import tqdm\n",
    "import matplotlib.pyplot as plt\n",
    "import ipywidgets as widgets\n",
    "from IPython.display import display\n",
    "from PIL import Image\n",
    "import numpy as np\n",
    "import cv2\n",
    "import os\n",
    "import base64\n",
    "src = \"/mnt/AI_NAS/datalake/source/provider=huggingface/synth_invoices_en\""
   ]
  },
  {
   "cell_type": "code",
   "execution_count": null,
   "id": "2ba6814f",
   "metadata": {},
   "outputs": [],
   "source": [
    "ds = load_from_disk(src)"
   ]
  },
  {
   "cell_type": "code",
   "execution_count": null,
   "id": "c1f33530",
   "metadata": {},
   "outputs": [],
   "source": [
    "class_dict = {\n",
    "    10: \"table\",\n",
    "    11: \"logo\"\n",
    "}"
   ]
  },
  {
   "cell_type": "code",
   "execution_count": null,
   "id": "c53a9c22",
   "metadata": {},
   "outputs": [],
   "source": [
    "records = []\n",
    "os.makedirs(\"images\", exist_ok=True)\n",
    "for data in tqdm(ds):\n",
    "    img = Image.open(io.BytesIO(base64.b64decode(data[\"image\"])))\n",
    "    \n",
    "    img_np = np.array(img)\n",
    "    annots = data[\"annotations\"]\n",
    "\n",
    "\n",
    "    \n",
    "    bboxes = annots['bboxes'] \n",
    "    unique_bboxes = {}\n",
    "    for idx, bbox in enumerate(bboxes):\n",
    "        bbox_tuple = tuple(bbox)\n",
    "        if bbox_tuple not in unique_bboxes:\n",
    "            unique_bboxes[bbox_tuple] = []\n",
    "        unique_bboxes[bbox_tuple].append(idx)\n",
    "    ner_tags = annots['ner_tags']\n",
    "    words = annots['words']\n",
    "    label = []\n",
    "    for unique_idx in unique_bboxes.values():\n",
    "        bbox = bboxes[unique_idx[0]]\n",
    "        x1, y1, x2, y2 = bbox\n",
    "        lines = []\n",
    "        tags = []\n",
    "        for idx in unique_idx:\n",
    "            word = words[idx]\n",
    "            tag = class_dict.get(ner_tags[idx], \"text\")\n",
    "            if tag != \"text\":\n",
    "                word = \"\"\n",
    "            tags.append(tag)\n",
    "            lines.append(f\"{word}\")\n",
    "        tags = list(set(tags))\n",
    "        class_ = tags[0]\n",
    "        text = \" \".join(lines)\n",
    "        label.append({\n",
    "            \"text\": text,\n",
    "            \"class\": class_,\n",
    "            \"bbox\": [x1, y1, x2, y2],\n",
    "        })\n",
    "        \n",
    "    buf = io.BytesIO()\n",
    "    img.save(buf, format='JPEG')\n",
    "    byte_data = buf.getvalue()\n",
    "    hash_val = hashlib.sha256(byte_data).hexdigest()\n",
    "    img_path = hash_val + \".jpg\"\n",
    "    sha256_dir = img_path[:1]\n",
    "    img_path = os.path.join(sha256_dir, img_path)\n",
    "    os.makedirs(sha256_dir, exist_ok=True)\n",
    "    output_path = os.path.join(sha256_dir, img_path)\n",
    "    img.save(output_path)\n",
    "    records.append({\n",
    "        \"image_path\": img_path,\n",
    "        \"width\": img.width,\n",
    "        \"height\": img.height,\n",
    "        \"label\": json.dumps(label, ensure_ascii=False),\n",
    "    })\n",
    "\n",
    "df = pd.DataFrame(records)\n",
    "    "
   ]
  },
  {
   "cell_type": "code",
   "execution_count": null,
   "id": "ac3ca04a",
   "metadata": {},
   "outputs": [],
   "source": [
    "df.to_parquet(\"synth_invoices_en.parquet\", index=False)"
   ]
  },
  {
   "cell_type": "code",
   "execution_count": null,
   "id": "78226133",
   "metadata": {},
   "outputs": [],
   "source": [
    "slider = widgets.IntSlider(min=0, max=len(ds)-1, step=1, value=0)"
   ]
  },
  {
   "cell_type": "code",
   "execution_count": null,
   "id": "6784e03f",
   "metadata": {},
   "outputs": [],
   "source": [
    "def display_sample(idx):\n",
    "    data = ds[idx]\n",
    "    img = Image.open(io.BytesIO(base64.b64decode(data[\"image\"])))\n",
    "    img_np = np.array(img)\n",
    "    annots = data[\"annotations\"]\n",
    "\n",
    "    bboxes = annots['bboxes'] \n",
    "    ner_tags = annots['ner_tags']\n",
    "    words = annots['words']\n",
    "\n",
    "    unique_bboxes = {}\n",
    "    for idx, bbox in enumerate(bboxes):\n",
    "        bbox_tuple = tuple(bbox)\n",
    "        if bbox_tuple not in unique_bboxes:\n",
    "            unique_bboxes[bbox_tuple] = []\n",
    "        unique_bboxes[bbox_tuple].append(idx)\n",
    "    print(f\"Unique BBoxes: {len(unique_bboxes)}\")\n",
    "    ner_tags = annots['ner_tags']\n",
    "    words = annots['words']\n",
    "    missed_tags = []\n",
    "    for unique_idx in unique_bboxes.values():\n",
    "        bbox = bboxes[unique_idx[0]]\n",
    "        x1, y1, x2, y2 = bbox\n",
    "        lines = []\n",
    "        tags = []\n",
    "        for idx in unique_idx:\n",
    "            word = words[idx]\n",
    "            tag = class_dict.get(ner_tags[idx], \"text\")\n",
    "            if tag != \"text\":\n",
    "                word = \"\"\n",
    "            tags.append(tag)\n",
    "            lines.append(f\"{word}\")\n",
    "        tags = list(set(tags))\n",
    "        class_ = tags[0]\n",
    "        text = \" \".join(lines)\n",
    "        label.append({\n",
    "            \"text\": text,\n",
    "            \"class\": class_,\n",
    "            \"bbox\": [x1, y1, x2, y2],\n",
    "        })\n",
    "        cv2.rectangle(img_np, (x1, y1), (x2, y2), (0, 255, 0), 2)\n",
    "        cv2.putText(img_np, text, (x1, y1 - 10), cv2.FONT_HERSHEY_SIMPLEX, 0.5, (0, 255, 0), 2)\n",
    "    display(Image.fromarray(img_np))"
   ]
  },
  {
   "cell_type": "code",
   "execution_count": null,
   "id": "d238c3ae",
   "metadata": {},
   "outputs": [],
   "source": [
    "widgets.interact(display_sample, idx=slider)"
   ]
  }
 ],
 "metadata": {
  "kernelspec": {
   "display_name": "kaiocr",
   "language": "python",
   "name": "python3"
  },
  "language_info": {
   "codemirror_mode": {
    "name": "ipython",
    "version": 3
   },
   "file_extension": ".py",
   "mimetype": "text/x-python",
   "name": "python",
   "nbconvert_exporter": "python",
   "pygments_lexer": "ipython3",
   "version": "3.12.8"
  }
 },
 "nbformat": 4,
 "nbformat_minor": 5
}
