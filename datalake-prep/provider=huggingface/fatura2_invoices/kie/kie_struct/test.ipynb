{
 "cells": [
  {
   "cell_type": "code",
   "execution_count": 233,
   "id": "b5c767b0",
   "metadata": {},
   "outputs": [],
   "source": [
    "import json\n",
    "import hashlib\n",
    "from datasets import load_from_disk, load_dataset, concatenate_datasets\n",
    "import io\n",
    "import pandas as pd\n",
    "from tqdm import tqdm\n",
    "import matplotlib.pyplot as plt\n",
    "from PIL import Image\n",
    "import numpy as np\n",
    "import cv2\n",
    "import os\n",
    "\n",
    "src = \"/mnt/AI_NAS/datalake/source/provider=huggingface/fatura2_invoices_original_strat\""
   ]
  },
  {
   "cell_type": "code",
   "execution_count": 234,
   "id": "ab9e9247",
   "metadata": {},
   "outputs": [],
   "source": [
    "ds = load_from_disk(src)"
   ]
  },
  {
   "cell_type": "code",
   "execution_count": 242,
   "id": "a5cdf4ff",
   "metadata": {},
   "outputs": [
    {
     "name": "stderr",
     "output_type": "stream",
     "text": [
      "  0%|          | 0/5250 [00:00<?, ?it/s]"
     ]
    },
    {
     "name": "stderr",
     "output_type": "stream",
     "text": [
      "100%|██████████| 5250/5250 [01:59<00:00, 43.85it/s]\n"
     ]
    }
   ],
   "source": [
    "records = []\n",
    "os.makedirs(\"images\", exist_ok=True)\n",
    "for data in tqdm(ds):\n",
    "    img = Image.open(io.BytesIO(data['doc_bytes']))\n",
    "    img_np = np.array(img)\n",
    "    label_ = eval(data['target_data'])\n",
    "    label_.pop(\"INVOICE_INFO\")\n",
    "    table = label_.pop('TABLE')[0][0]\n",
    "    label_['TABLE'] = {\n",
    "        'bbox': table['bbox'],\n",
    "    }\n",
    "    label = {}\n",
    "    for key, item in label_.items():\n",
    "        key = key.lower()\n",
    "        bbox = item.get('bbox', None)\n",
    "        text = item.get('text', None)\n",
    "        if bbox is not None:\n",
    "            bbox = np.array(bbox).astype(np.int32).reshape(-1, 2)\n",
    "            bbox[:, 1] = img.height - bbox[:, 1]\n",
    "            tl = np.min(bbox, axis=0)\n",
    "            br = np.max(bbox, axis=0)\n",
    "            tl = tl.tolist()\n",
    "            br = br.tolist()\n",
    "            bbox = [tl[0], tl[1], br[0], br[1]]\n",
    "        label[key] = {}\n",
    "        if text is not None:\n",
    "            label[key]['text'] = text\n",
    "        if bbox is not None:\n",
    "            label[key]['bbox'] = bbox\n",
    "    \n",
    "    buf = io.BytesIO()\n",
    "    img.save(buf, format='JPEG')\n",
    "    byte_data = buf.getvalue()\n",
    "    hash_val = hashlib.sha256(byte_data).hexdigest()\n",
    "    img_path = hash_val + \".jpg\"\n",
    "    output_path = \"images/\" + img_path\n",
    "    img.save(output_path, format='JPEG')\n",
    "    records.append({\n",
    "        \"image_path\": img_path,\n",
    "        \"width\": img.width,   \n",
    "        \"height\": img.height,\n",
    "        \"label\": json.dumps(label, ensure_ascii=False),\n",
    "    })\n",
    "\n",
    "df = pd.DataFrame(records)"
   ]
  },
  {
   "cell_type": "code",
   "execution_count": 245,
   "id": "e24c1daa",
   "metadata": {},
   "outputs": [],
   "source": [
    "df.to_parquet(\"fatura2_invoices.parquet\", index=False)"
   ]
  },
  {
   "cell_type": "code",
   "execution_count": null,
   "id": "8085998b",
   "metadata": {},
   "outputs": [],
   "source": [
    "import ipywidgets as widgets\n",
    "from IPython.display import display"
   ]
  },
  {
   "cell_type": "code",
   "execution_count": 228,
   "id": "a9bcebf7",
   "metadata": {},
   "outputs": [
    {
     "data": {
      "application/vnd.jupyter.widget-view+json": {
       "model_id": "fd75e6ce7f48495ebd5be3961317ff3d",
       "version_major": 2,
       "version_minor": 0
      },
      "text/plain": [
       "interactive(children=(IntSlider(value=0, description='idx', max=5249), Output()), _dom_classes=('widget-intera…"
      ]
     },
     "metadata": {},
     "output_type": "display_data"
    },
    {
     "data": {
      "text/plain": [
       "<function __main__.display_sample(idx)>"
      ]
     },
     "execution_count": 228,
     "metadata": {},
     "output_type": "execute_result"
    }
   ],
   "source": [
    "def display_sample(idx):\n",
    "    data = ds[idx]\n",
    "    img = Image.open(io.BytesIO(data['doc_bytes']))\n",
    "    img_np = np.array(img)\n",
    "    label_ = eval(data['target_data'])\n",
    "    label_.pop(\"INVOICE_INFO\")\n",
    "    table = label_.pop('TABLE')[0][0]\n",
    "    label_['TABLE'] = {\n",
    "        'bbox': table['bbox'],\n",
    "    }\n",
    "    for key, item in label_.items():\n",
    "        bbox = item.get('bbox', None)\n",
    "        text = item.get('text', \"\")\n",
    "        if bbox is not None:\n",
    "            bbox = np.array(bbox).astype(np.int32).reshape(-1, 2)\n",
    "            bbox[:, 1] = img.height - bbox[:, 1]\n",
    "            tl = np.min(bbox, axis=0)\n",
    "            br = np.max(bbox, axis=0)\n",
    "            tl = tl.tolist()\n",
    "            br = br.tolist()\n",
    "            cv2.rectangle(img_np, tuple(tl), tuple(br), (255, 0, 0), 2)\n",
    "            cv2.putText(img_np, key, tuple(tl), cv2.FONT_HERSHEY_SIMPLEX, 0.5, (0, 255, 0), 2)\n",
    "            cv2.putText(img_np, text, (tl[0], tl[1] - 10), cv2.FONT_HERSHEY_SIMPLEX, 0.5, (0, 255, 0), 2)\n",
    "    display(Image.fromarray(img_np))\n",
    "slider = widgets.IntSlider(min=0, max=len(ds)-1, step=1, value=0)\n",
    "widgets.interact(display_sample, idx=slider)"
   ]
  },
  {
   "cell_type": "code",
   "execution_count": 154,
   "id": "13f0adbf",
   "metadata": {},
   "outputs": [
    {
     "data": {
      "text/plain": [
       "{'TABLE': [[{'bbox': [[31.0, 443.8898], [581.0, 389.8898]]}]],\n",
       " 'INVOICE_INFO': [],\n",
       " 'BILL_TO': {'bbox': [[10.0, 592.4127999999997],\n",
       "   [159.78700000000006, 682.6128]],\n",
       "  'text': 'BILL_TO:\\nMark Cook\\n3118 Elizabeth Flat Suite 356\\nHeatherside, NJ 61519 US\\nTel:+(171)767-0447\\nEmail:hbaker@example.net\\nSite:http://massey.com/'},\n",
       " 'DATE': {'bbox': [[396.0, 610.4058], [497.37600000000003, 622.4058]],\n",
       "  'text': 'Date: 28-Dec-2000'},\n",
       " 'DISCOUNT': {'bbox': [[373.0, 313.4058], [530.356, 325.4058]],\n",
       "  'text': 'DISCOUNT(1.32%): (-)  8.73'},\n",
       " 'DUE_DATE': {'bbox': [[396.0, 645.4058], [528.0360000000001, 657.4058]],\n",
       "  'text': 'Due Date : 04-Feb-2012'},\n",
       " 'NOTE': {'bbox': [[259.0, 201.0058], [507.03999999999996, 227.4058]],\n",
       "  'text': 'Note: All payments to be made in cash.\\nContact us for queries on these quotations.'},\n",
       " 'SELLER_ADDRESS': {'bbox': [[157.0, 772.0058], [376.408, 798.4058]],\n",
       "  'text': 'Address:2180 Michael Ridges Apt. 385\\nPort Lindsey, MP 98258 US'},\n",
       " 'SELLER_NAME': {'bbox': [[157, 812], [220, 824]], 'text': 'Huff-Bryan'},\n",
       " 'SUB_TOTAL': {'bbox': [[374.0, 333.4058], [525.3679999999999, 345.4058]],\n",
       "  'text': 'SUB_TOTAL : 661.50  EUR'},\n",
       " 'TITLE': {'bbox': [[32.0, 697.1638], [235.004, 715.1638]],\n",
       "  'text': 'COMMERCIAL INVOICE'},\n",
       " 'TOTAL': {'bbox': [[397.0, 695.4058], [513.028, 707.4058]],\n",
       "  'text': 'TOTAL : 695.47 EUR'},\n",
       " 'LOGO': {'bbox': [[400, 841], [490, 751]]}}"
      ]
     },
     "execution_count": 154,
     "metadata": {},
     "output_type": "execute_result"
    }
   ],
   "source": [
    "label"
   ]
  }
 ],
 "metadata": {
  "kernelspec": {
   "display_name": "kaiocr",
   "language": "python",
   "name": "python3"
  },
  "language_info": {
   "codemirror_mode": {
    "name": "ipython",
    "version": 3
   },
   "file_extension": ".py",
   "mimetype": "text/x-python",
   "name": "python",
   "nbconvert_exporter": "python",
   "pygments_lexer": "ipython3",
   "version": "3.12.8"
  }
 },
 "nbformat": 4,
 "nbformat_minor": 5
}
