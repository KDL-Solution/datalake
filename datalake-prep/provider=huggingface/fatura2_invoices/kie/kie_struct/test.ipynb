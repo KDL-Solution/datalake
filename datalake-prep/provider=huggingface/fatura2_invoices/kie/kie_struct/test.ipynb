{
 "cells": [
  {
   "cell_type": "code",
   "execution_count": null,
   "id": "b5c767b0",
   "metadata": {},
   "outputs": [],
   "source": [
    "import json\n",
    "import hashlib\n",
    "from datasets import load_from_disk, load_dataset, concatenate_datasets, Dataset\n",
    "import io\n",
    "import pandas as pd\n",
    "from tqdm import tqdm\n",
    "import matplotlib.pyplot as plt\n",
    "from PIL import Image\n",
    "import numpy as np\n",
    "import cv2\n",
    "import os\n",
    "\n",
    "src = \"/mnt/AI_NAS/datalake/source/provider=huggingface/fatura2_invoices\""
   ]
  },
  {
   "cell_type": "code",
   "execution_count": null,
   "id": "ab9e9247",
   "metadata": {},
   "outputs": [],
   "source": [
    "ds = load_from_disk(src)"
   ]
  },
  {
   "cell_type": "code",
   "execution_count": null,
   "id": "12f56894",
   "metadata": {},
   "outputs": [],
   "source": [
    "records = []\n",
    "os.makedirs(\"images\", exist_ok=True)\n",
    "for data in tqdm(ds):\n",
    "    img = Image.open(io.BytesIO(data['doc_bytes']))\n",
    "    img_np = np.array(img)\n",
    "    label_ = eval(data['target_data'])\n",
    "    label_.pop(\"INVOICE_INFO\")\n",
    "    table = label_.pop('TABLE')[0][0]\n",
    "    label_['TABLE'] = {\n",
    "        'bbox': table['bbox'],\n",
    "    }\n",
    "    label = {}\n",
    "    for key, item in label_.items():\n",
    "        key = key.lower()\n",
    "        bbox = item.get('bbox', None)\n",
    "        text = item.get('text', None)\n",
    "        if bbox is not None:\n",
    "            bbox = np.array(bbox).astype(np.int32).reshape(-1, 2)\n",
    "            bbox[:, 1] = img.height - bbox[:, 1]\n",
    "            tl = np.min(bbox, axis=0)\n",
    "            br = np.max(bbox, axis=0)\n",
    "            tl = tl.tolist()\n",
    "            br = br.tolist()\n",
    "            bbox = [tl[0], tl[1], br[0], br[1]]\n",
    "        label[key] = {}\n",
    "        if text is not None:\n",
    "            label[key]['text'] = text\n",
    "        if bbox is not None:\n",
    "            label[key]['bbox'] = bbox\n",
    "    \n",
    "    buf = io.BytesIO()\n",
    "    img.save(buf, format='JPEG')\n",
    "    byte_data = buf.getvalue()\n",
    "    hash_val = hashlib.sha256(byte_data).hexdigest()\n",
    "    img_path = hash_val + \".jpg\"\n",
    "    output_path = \"images/\" + img_path\n",
    "    img.save(output_path, format='JPEG')\n",
    "    records.append({\n",
    "        \"image_path\": img_path,\n",
    "        \"width\": img.width,   \n",
    "        \"height\": img.height,\n",
    "        \"label\": json.dumps(label, ensure_ascii=False),\n",
    "    })\n",
    "\n",
    "df = pd.DataFrame(records)"
   ]
  },
  {
   "cell_type": "code",
   "execution_count": null,
   "id": "c1702bf4",
   "metadata": {},
   "outputs": [],
   "source": [
    "df.to_parquet(\"fatura2_invoices.parquet\", index=False)"
   ]
  },
  {
   "cell_type": "code",
   "execution_count": null,
   "id": "8085998b",
   "metadata": {},
   "outputs": [],
   "source": [
    "import ipywidgets as widgets\n",
    "from IPython.display import display"
   ]
  },
  {
   "cell_type": "code",
   "execution_count": null,
   "id": "a9bcebf7",
   "metadata": {},
   "outputs": [],
   "source": [
    "def display_sample(idx):\n",
    "    data = ds.loc[idx]\n",
    "    img = Image.open(\"images/\"+data['image_path'])\n",
    "    img_np = np.array(img)\n",
    "    label_ = eval(data['label'])\n",
    "    for key, item in label_.items():\n",
    "        bbox = item.get('bbox', None)\n",
    "        text = item.get('text', None)\n",
    "        if bbox is not None:\n",
    "            cv2.rectangle(img_np, \n",
    "                        (int(bbox[0]), int(bbox[1])), \n",
    "                        (int(bbox[2]), int(bbox[3])), \n",
    "                        (255, 0, 0), 2)\n",
    "            cv2.putText(img_np, key, \n",
    "                        (int(bbox[0]), int(bbox[1]) - 10), \n",
    "                        cv2.FONT_HERSHEY_SIMPLEX, \n",
    "                        0.5, (0, 0, 255), 2)\n",
    "    display(Image.fromarray(img_np))\n",
    "slider = widgets.IntSlider(min=0, max=len(ds)-1, step=1, value=0)\n",
    "widgets.interact(display_sample, idx=slider)"
   ]
  }
 ],
 "metadata": {
  "kernelspec": {
   "display_name": "kaiocr",
   "language": "python",
   "name": "python3"
  },
  "language_info": {
   "codemirror_mode": {
    "name": "ipython",
    "version": 3
   },
   "file_extension": ".py",
   "mimetype": "text/x-python",
   "name": "python",
   "nbconvert_exporter": "python",
   "pygments_lexer": "ipython3",
   "version": "3.12.8"
  }
 },
 "nbformat": 4,
 "nbformat_minor": 5
}
