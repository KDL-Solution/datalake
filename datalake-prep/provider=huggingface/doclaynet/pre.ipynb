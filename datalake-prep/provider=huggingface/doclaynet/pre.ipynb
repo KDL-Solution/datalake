{
 "cells": [
  {
   "cell_type": "code",
   "execution_count": 6,
   "metadata": {},
   "outputs": [
    {
     "ename": "NameError",
     "evalue": "name 'unzip' is not defined",
     "output_type": "error",
     "traceback": [
      "\u001b[0;31m---------------------------------------------------------------------------\u001b[0m",
      "\u001b[0;31mNameError\u001b[0m                                 Traceback (most recent call last)",
      "Cell \u001b[0;32mIn[6], line 1\u001b[0m\n\u001b[0;32m----> 1\u001b[0m \u001b[43munzip\u001b[49m \u001b[38;5;241m/\u001b[39mhome\u001b[38;5;241m/\u001b[39mian\u001b[38;5;241m/\u001b[39mworkspace\u001b[38;5;241m/\u001b[39mdata\u001b[38;5;241m/\u001b[39mDocLayNet_core\u001b[38;5;241m.\u001b[39mzip \u001b[38;5;241m-\u001b[39md \u001b[38;5;241m/\u001b[39mhome\u001b[38;5;241m/\u001b[39mian\u001b[38;5;241m/\u001b[39mworkspace\u001b[38;5;241m/\u001b[39mdata\u001b[38;5;241m/\u001b[39mdoclaynet_extracted\n",
      "\u001b[0;31mNameError\u001b[0m: name 'unzip' is not defined"
     ]
    }
   ],
   "source": [
    "unzip /home/ian/workspace/data/DocLayNet_core.zip -d /home/ian/workspace/data/doclaynet_extracted"
   ]
  },
  {
   "cell_type": "code",
   "execution_count": 3,
   "metadata": {},
   "outputs": [
    {
     "name": "stdout",
     "output_type": "stream",
     "text": [
      "🔄 처리 중: train\n"
     ]
    },
    {
     "ename": "FileNotFoundError",
     "evalue": "[Errno 2] No such file or directory: '/home/ian/workspace/data/doclaynet/COCO/train.json'",
     "output_type": "error",
     "traceback": [
      "\u001b[0;31m---------------------------------------------------------------------------\u001b[0m",
      "\u001b[0;31mFileNotFoundError\u001b[0m                         Traceback (most recent call last)",
      "Cell \u001b[0;32mIn[3], line 16\u001b[0m\n\u001b[1;32m     14\u001b[0m \u001b[38;5;28;01mfor\u001b[39;00m split \u001b[38;5;129;01min\u001b[39;00m splits:\n\u001b[1;32m     15\u001b[0m     \u001b[38;5;28mprint\u001b[39m(\u001b[38;5;124mf\u001b[39m\u001b[38;5;124m\"\u001b[39m\u001b[38;5;124m🔄 처리 중: \u001b[39m\u001b[38;5;132;01m{\u001b[39;00msplit\u001b[38;5;132;01m}\u001b[39;00m\u001b[38;5;124m\"\u001b[39m)\n\u001b[0;32m---> 16\u001b[0m     \u001b[38;5;28;01mwith\u001b[39;00m \u001b[38;5;28;43mopen\u001b[39;49m\u001b[43m(\u001b[49m\u001b[43mCOCO_DIR\u001b[49m\u001b[43m \u001b[49m\u001b[38;5;241;43m/\u001b[39;49m\u001b[43m \u001b[49m\u001b[38;5;124;43mf\u001b[39;49m\u001b[38;5;124;43m\"\u001b[39;49m\u001b[38;5;132;43;01m{\u001b[39;49;00m\u001b[43msplit\u001b[49m\u001b[38;5;132;43;01m}\u001b[39;49;00m\u001b[38;5;124;43m.json\u001b[39;49m\u001b[38;5;124;43m\"\u001b[39;49m\u001b[43m,\u001b[49m\u001b[43m \u001b[49m\u001b[38;5;124;43m\"\u001b[39;49m\u001b[38;5;124;43mr\u001b[39;49m\u001b[38;5;124;43m\"\u001b[39;49m\u001b[43m,\u001b[49m\u001b[43m \u001b[49m\u001b[43mencoding\u001b[49m\u001b[38;5;241;43m=\u001b[39;49m\u001b[38;5;124;43m\"\u001b[39;49m\u001b[38;5;124;43mutf-8\u001b[39;49m\u001b[38;5;124;43m\"\u001b[39;49m\u001b[43m)\u001b[49m \u001b[38;5;28;01mas\u001b[39;00m f:\n\u001b[1;32m     17\u001b[0m         ann \u001b[38;5;241m=\u001b[39m json\u001b[38;5;241m.\u001b[39mload(f)\n\u001b[1;32m     19\u001b[0m     images \u001b[38;5;241m=\u001b[39m {img[\u001b[38;5;124m\"\u001b[39m\u001b[38;5;124mid\u001b[39m\u001b[38;5;124m\"\u001b[39m]: img \u001b[38;5;28;01mfor\u001b[39;00m img \u001b[38;5;129;01min\u001b[39;00m ann[\u001b[38;5;124m\"\u001b[39m\u001b[38;5;124mimages\u001b[39m\u001b[38;5;124m\"\u001b[39m]}\n",
      "File \u001b[0;32m~/anaconda3/envs/play/lib/python3.10/site-packages/IPython/core/interactiveshell.py:324\u001b[0m, in \u001b[0;36m_modified_open\u001b[0;34m(file, *args, **kwargs)\u001b[0m\n\u001b[1;32m    317\u001b[0m \u001b[38;5;28;01mif\u001b[39;00m file \u001b[38;5;129;01min\u001b[39;00m {\u001b[38;5;241m0\u001b[39m, \u001b[38;5;241m1\u001b[39m, \u001b[38;5;241m2\u001b[39m}:\n\u001b[1;32m    318\u001b[0m     \u001b[38;5;28;01mraise\u001b[39;00m \u001b[38;5;167;01mValueError\u001b[39;00m(\n\u001b[1;32m    319\u001b[0m         \u001b[38;5;124mf\u001b[39m\u001b[38;5;124m\"\u001b[39m\u001b[38;5;124mIPython won\u001b[39m\u001b[38;5;124m'\u001b[39m\u001b[38;5;124mt let you open fd=\u001b[39m\u001b[38;5;132;01m{\u001b[39;00mfile\u001b[38;5;132;01m}\u001b[39;00m\u001b[38;5;124m by default \u001b[39m\u001b[38;5;124m\"\u001b[39m\n\u001b[1;32m    320\u001b[0m         \u001b[38;5;124m\"\u001b[39m\u001b[38;5;124mas it is likely to crash IPython. If you know what you are doing, \u001b[39m\u001b[38;5;124m\"\u001b[39m\n\u001b[1;32m    321\u001b[0m         \u001b[38;5;124m\"\u001b[39m\u001b[38;5;124myou can use builtins\u001b[39m\u001b[38;5;124m'\u001b[39m\u001b[38;5;124m open.\u001b[39m\u001b[38;5;124m\"\u001b[39m\n\u001b[1;32m    322\u001b[0m     )\n\u001b[0;32m--> 324\u001b[0m \u001b[38;5;28;01mreturn\u001b[39;00m \u001b[43mio_open\u001b[49m\u001b[43m(\u001b[49m\u001b[43mfile\u001b[49m\u001b[43m,\u001b[49m\u001b[43m \u001b[49m\u001b[38;5;241;43m*\u001b[39;49m\u001b[43margs\u001b[49m\u001b[43m,\u001b[49m\u001b[43m \u001b[49m\u001b[38;5;241;43m*\u001b[39;49m\u001b[38;5;241;43m*\u001b[39;49m\u001b[43mkwargs\u001b[49m\u001b[43m)\u001b[49m\n",
      "\u001b[0;31mFileNotFoundError\u001b[0m: [Errno 2] No such file or directory: '/home/ian/workspace/data/doclaynet/COCO/train.json'"
     ]
    }
   ],
   "source": [
    "import json\n",
    "import os\n",
    "from pathlib import Path\n",
    "from tqdm import tqdm\n",
    "import pandas as pd\n",
    "\n",
    "ROOT = Path(\"/home/ian/workspace/data/doclaynet\")\n",
    "COCO_DIR = ROOT / \"COCO\"\n",
    "IMG_DIR = ROOT / \"PNG\"\n",
    "OUT_DIR = Path(\"/mnt/AI_NAS/datalake/source/provider=huggingface/DocLayNet/core_parquet\")\n",
    "OUT_DIR.mkdir(parents=True, exist_ok=True)\n",
    "splits = [\"train\", \"val\", \"test\"]\n",
    "\n",
    "for split in splits:\n",
    "    print(f\"🔄 처리 중: {split}\")\n",
    "    with open(COCO_DIR / f\"{split}.json\", \"r\", encoding=\"utf-8\") as f:\n",
    "        ann = json.load(f)\n",
    "\n",
    "    images = {img[\"id\"]: img for img in ann[\"images\"]}\n",
    "    anns = ann[\"annotations\"]\n",
    "\n",
    "    image_to_anns = {}\n",
    "    for a in anns:\n",
    "        image_to_anns.setdefault(a[\"image_id\"], []).append(a)\n",
    "\n",
    "    records = []\n",
    "    for img_id, img in tqdm(images.items()):\n",
    "        img_path = IMG_DIR / img[\"file_name\"]\n",
    "        objects = image_to_anns.get(img_id, [])\n",
    "\n",
    "        record = {\n",
    "            \"image_path\": str(img_path.relative_to(ROOT)),\n",
    "            \"image_id\": img_id,\n",
    "            \"width\": img[\"width\"],\n",
    "            \"height\": img[\"height\"],\n",
    "            \"doc_category\": img[\"doc_category\"],\n",
    "            \"collection\": img[\"collection\"],\n",
    "            \"doc_name\": img[\"doc_name\"],\n",
    "            \"page_no\": img[\"page_no\"],\n",
    "            \"objects\": objects,  \n",
    "        }\n",
    "        records.append(record)\n",
    "\n",
    "    df = pd.DataFrame(records)\n",
    "    out_path = OUT_DIR / f\"{split}.parquet\"\n",
    "    df.to_parquet(out_path)\n",
    "    print(f\"✅ 저장 완료: {out_path} ({len(df)}개 샘플)\")"
   ]
  },
  {
   "cell_type": "code",
   "execution_count": 1,
   "metadata": {},
   "outputs": [
    {
     "name": "stdout",
     "output_type": "stream",
     "text": [
      "📁 doclaynet_train: 69375장\n",
      "📁 doclaynet_val: 6489장\n",
      "📁 doclaynet_test: 4999장\n"
     ]
    }
   ],
   "source": [
    "from pathlib import Path\n",
    "\n",
    "root = Path(\"/home/ian/workspace/data/doclaynet_extracted\")\n",
    "splits = [\"doclaynet_train\", \"doclaynet_val\", \"doclaynet_test\"]\n",
    "image_exts = {\".png\", \".jpg\", \".jpeg\", \".tif\", \".tiff\"}\n",
    "\n",
    "for split in splits:\n",
    "    split_dir = root / split\n",
    "    if not split_dir.exists():\n",
    "        print(f\"❌ 폴더 없음: {split_dir}\")\n",
    "        continue\n",
    "\n",
    "    image_files = [f for f in split_dir.rglob(\"*\") if f.suffix.lower() in image_exts]\n",
    "    print(f\"📁 {split}: {len(image_files)}장\")"
   ]
  },
  {
   "cell_type": "code",
   "execution_count": null,
   "metadata": {},
   "outputs": [],
   "source": []
  }
 ],
 "metadata": {
  "kernelspec": {
   "display_name": "play",
   "language": "python",
   "name": "python3"
  },
  "language_info": {
   "codemirror_mode": {
    "name": "ipython",
    "version": 3
   },
   "file_extension": ".py",
   "mimetype": "text/x-python",
   "name": "python",
   "nbconvert_exporter": "python",
   "pygments_lexer": "ipython3",
   "version": "3.10.15"
  }
 },
 "nbformat": 4,
 "nbformat_minor": 2
}
