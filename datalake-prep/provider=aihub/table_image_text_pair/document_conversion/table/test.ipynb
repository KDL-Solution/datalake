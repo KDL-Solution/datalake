{
 "cells": [
  {
   "cell_type": "code",
   "execution_count": 6,
   "id": "1eb0567c",
   "metadata": {},
   "outputs": [],
   "source": [
    "import os\n",
    "from glob import glob\n",
    "import shutil\n",
    "from zipfile import ZipFile\n",
    "import json\n",
    "from tqdm import tqdm\n",
    "import pandas as pd\n",
    "from PIL import Image\n",
    "from io import BytesIO\n",
    "import hashlib\n",
    "src = \"/home/kai/workspace/DeepDocs_Project/datalake/source/table_image_text_pair\""
   ]
  },
  {
   "cell_type": "code",
   "execution_count": 2,
   "id": "0264ab24",
   "metadata": {},
   "outputs": [],
   "source": [
    "data = glob(f\"{src}/**/*.zip\", recursive=True)"
   ]
  },
  {
   "cell_type": "code",
   "execution_count": null,
   "id": "19baa6e0",
   "metadata": {},
   "outputs": [],
   "source": [
    "for file in data:\n",
    "    print(f\"Unzipping {file}...\")\n",
    "    with ZipFile(file, 'r') as zip_ref:\n",
    "        zip_ref.extractall(os.path.dirname(file).replace(src, \"./\"))\n",
    "    print(f\"Unzipped {file} to {os.path.dirname(file)}\")"
   ]
  },
  {
   "cell_type": "code",
   "execution_count": 3,
   "id": "59ecd052",
   "metadata": {},
   "outputs": [],
   "source": [
    "dir_ = \"032.표 이미지-텍스트 쌍 데이터\"\n",
    "html_files = sorted(glob(f\"{dir_}/**/*.html\", recursive=True))\n",
    "images = sorted(glob(f\"{dir_}/**/*.jpg\", recursive=True))"
   ]
  },
  {
   "cell_type": "code",
   "execution_count": 4,
   "id": "2fecec38",
   "metadata": {},
   "outputs": [],
   "source": [
    "jsons = sorted(glob(f\"{dir_}/**/Validation/02.라벨링데이터/**/*.json\", recursive=True))"
   ]
  },
  {
   "cell_type": "code",
   "execution_count": 5,
   "id": "4eddfeeb",
   "metadata": {},
   "outputs": [],
   "source": [
    "from bs4 import BeautifulSoup\n",
    "def extract_tables_with_thead(html):\n",
    "    soup = BeautifulSoup(html, \"html.parser\")\n",
    "    tables = soup.find_all(\"table\")\n",
    "    for tag in soup([\"style\", \"script\"]):\n",
    "        tag.decompose()\n",
    "    results = []\n",
    "    for table in tables:\n",
    "        tds = table.find_all(\"th\", attrs={\"rowspan\": \"1\", \"colspan\": \"1\"})\n",
    "        tds += table.find_all(\"td\", attrs={\"rowspan\": \"1\", \"colspan\": \"1\"})\n",
    "        tds += table.find_all(\"tr\", attrs={\"rowspan\": \"1\", \"colspan\": \"1\"})\n",
    "        for td in tds:\n",
    "            td.attrs.pop(\"rowspan\", None)\n",
    "            td.attrs.pop(\"colspan\", None)\n",
    "            td.string = td.get_text(strip=True)\n",
    "            \n",
    "        results.append(str(table))\n",
    "    return results"
   ]
  },
  {
   "cell_type": "code",
   "execution_count": 33,
   "id": "531dbeb9",
   "metadata": {},
   "outputs": [],
   "source": [
    "from PIL import Image\n",
    "import numpy as np\n",
    "import hashlib\n",
    "def get_sha256(file_path):\n",
    "    with open(file_path, \"rb\") as f:\n",
    "        file_content = f.read()\n",
    "        hash_val = hashlib.sha256(file_content).hexdigest()\n",
    "    return hash_val"
   ]
  },
  {
   "cell_type": "code",
   "execution_count": 36,
   "id": "24535c1e",
   "metadata": {},
   "outputs": [
    {
     "name": "stderr",
     "output_type": "stream",
     "text": [
      " 10%|█         | 41753/404023 [03:38<24:02, 251.09it/s]  "
     ]
    },
    {
     "name": "stdout",
     "output_type": "stream",
     "text": [
      "Skipping 032.표 이미지-텍스트 쌍 데이터/3.개방데이터/1.데이터/Training/01.원천데이터/T01_C01_50002_1180_168.html due to multiple tables: 0 found\n"
     ]
    },
    {
     "name": "stderr",
     "output_type": "stream",
     "text": [
      " 45%|████▌     | 183467/404023 [12:49<10:20, 355.17it/s] "
     ]
    },
    {
     "name": "stdout",
     "output_type": "stream",
     "text": [
      "Skipping 032.표 이미지-텍스트 쌍 데이터/3.개방데이터/1.데이터/Training/01.원천데이터/T02_C06_51000_1012_017.html due to multiple tables: 0 found\n",
      "Skipping 032.표 이미지-텍스트 쌍 데이터/3.개방데이터/1.데이터/Training/01.원천데이터/T02_C06_51000_1012_018.html due to multiple tables: 0 found\n"
     ]
    },
    {
     "name": "stderr",
     "output_type": "stream",
     "text": [
      "100%|██████████| 404023/404023 [34:29<00:00, 195.26it/s] \n"
     ]
    }
   ],
   "source": [
    "images_dir = \"./images\"\n",
    "os.makedirs(images_dir, exist_ok=True)\n",
    "records = []\n",
    "for html_file, image_file in tqdm(zip(html_files, images), total=len(html_files)):\n",
    "    \n",
    "    \n",
    "    # html_files과 images의 이름이 같은지 확인\n",
    "    html_name = os.path.basename(html_file).replace(\".html\", \"\")\n",
    "    image_name = os.path.basename(image_file).replace(\".jpg\", \"\")\n",
    "    if html_name != image_name:\n",
    "        print(f\"Mismatch: {html_name} != {image_name}\")\n",
    "        \n",
    "    with open(html_file, 'r', encoding='utf-8') as f:\n",
    "        html_content = f.read()\n",
    "    tables = extract_tables_with_thead(html_content)\n",
    "    if len(tables) != 1:\n",
    "        print(f\"Skipping {html_file} due to multiple tables: {len(tables)} found\")\n",
    "        continue\n",
    "    table = tables[0]\n",
    "    \n",
    "    img_sha256 = get_sha256(image_file)\n",
    "    sha256= os.path.join(images_dir, img_sha256[:2], img_sha256+\".jpg\")\n",
    "    os.makedirs(os.path.dirname(sha256), exist_ok=True)\n",
    "    shutil.copy(image_file, sha256)\n",
    "    with Image.open(sha256) as img:\n",
    "        width, height = img.size\n",
    "    \n",
    "    data = {\n",
    "        \"image_path\": sha256.replace(images_dir + \"/\", \"\"),\n",
    "        \"width\": width,\n",
    "        \"height\": height,\n",
    "        \"label\": table,\n",
    "    }\n",
    "    records.append(data)"
   ]
  },
  {
   "cell_type": "code",
   "execution_count": 40,
   "id": "82ad0725",
   "metadata": {},
   "outputs": [],
   "source": [
    "df = pd.DataFrame(records)"
   ]
  },
  {
   "cell_type": "code",
   "execution_count": 41,
   "id": "1f411c26",
   "metadata": {},
   "outputs": [],
   "source": [
    "# find duplicate images\n",
    "# find duplicate label\n",
    "duplicates = df[df.duplicated(subset=[\"image_path\"], keep=False)]\n",
    "duplicates_label = df[df.duplicated(subset=[\"label\"], keep=False)]\n",
    "\n",
    "# 제거\n",
    "df_cleaned = df.drop_duplicates(subset=[\"image_path\"], keep='first')\n",
    "df_cleaned = df.drop_duplicates(subset=[\"label\"], keep='first')\n",
    "df_cleaned = df_cleaned.reset_index(drop=True)"
   ]
  },
  {
   "cell_type": "code",
   "execution_count": 42,
   "id": "bb2e6446",
   "metadata": {},
   "outputs": [
    {
     "data": {
      "text/html": [
       "<div>\n",
       "<style scoped>\n",
       "    .dataframe tbody tr th:only-of-type {\n",
       "        vertical-align: middle;\n",
       "    }\n",
       "\n",
       "    .dataframe tbody tr th {\n",
       "        vertical-align: top;\n",
       "    }\n",
       "\n",
       "    .dataframe thead th {\n",
       "        text-align: right;\n",
       "    }\n",
       "</style>\n",
       "<table border=\"1\" class=\"dataframe\">\n",
       "  <thead>\n",
       "    <tr style=\"text-align: right;\">\n",
       "      <th></th>\n",
       "      <th>image_path</th>\n",
       "      <th>width</th>\n",
       "      <th>height</th>\n",
       "      <th>label</th>\n",
       "    </tr>\n",
       "  </thead>\n",
       "  <tbody>\n",
       "    <tr>\n",
       "      <th>0</th>\n",
       "      <td>e3/e38f0b278ee3cdea8481572e9d977fe85b807c187ce...</td>\n",
       "      <td>998</td>\n",
       "      <td>237</td>\n",
       "      <td>&lt;table&gt;&lt;tr&gt;&lt;td&gt;달성여부목표치의적극성&lt;/td&gt;&lt;td&gt;초과달성 (100%초...</td>\n",
       "    </tr>\n",
       "    <tr>\n",
       "      <th>1</th>\n",
       "      <td>57/570d580cc81680d2ffbd711588531b20b29af36592d...</td>\n",
       "      <td>1276</td>\n",
       "      <td>216</td>\n",
       "      <td>&lt;table&gt;&lt;tr&gt;&lt;td&gt;(전년동월비,%)&lt;/td&gt;&lt;td&gt;'19.8&lt;/td&gt;&lt;td...</td>\n",
       "    </tr>\n",
       "    <tr>\n",
       "      <th>2</th>\n",
       "      <td>f9/f9b8583eebf90bf0a7ec409f3e632a5bdd3d4c2020b...</td>\n",
       "      <td>1126</td>\n",
       "      <td>231</td>\n",
       "      <td>&lt;table&gt;&lt;tr&gt;&lt;td&gt;구분&lt;/td&gt;&lt;td&gt;'16년&lt;/td&gt;&lt;td&gt;17년&lt;/td...</td>\n",
       "    </tr>\n",
       "    <tr>\n",
       "      <th>3</th>\n",
       "      <td>6a/6abcfe60f8f47f475c4b36f37cc2b4ff85119b95f71...</td>\n",
       "      <td>1222</td>\n",
       "      <td>404</td>\n",
       "      <td>&lt;table&gt;&lt;tr&gt;&lt;td&gt;재정투자&lt;/td&gt;&lt;td&gt;민간자본활용&lt;/td&gt;&lt;td&gt;법·제...</td>\n",
       "    </tr>\n",
       "    <tr>\n",
       "      <th>4</th>\n",
       "      <td>08/08e527e1a8c2857b4827fbda9948d4338488a77fc33...</td>\n",
       "      <td>894</td>\n",
       "      <td>199</td>\n",
       "      <td>&lt;table&gt;&lt;tr&gt;&lt;td&gt;항목&lt;/td&gt;&lt;td&gt;2019년(A)&lt;/td&gt;&lt;td&gt;201...</td>\n",
       "    </tr>\n",
       "    <tr>\n",
       "      <th>...</th>\n",
       "      <td>...</td>\n",
       "      <td>...</td>\n",
       "      <td>...</td>\n",
       "      <td>...</td>\n",
       "    </tr>\n",
       "    <tr>\n",
       "      <th>361756</th>\n",
       "      <td>98/98a514782f8c561c485014d18a246b2a1592c0390d8...</td>\n",
       "      <td>1325</td>\n",
       "      <td>790</td>\n",
       "      <td>&lt;table&gt;&lt;tr&gt;&lt;td colspan=\"2\" rowspan=\"1\"&gt;구분&lt;/td&gt;...</td>\n",
       "    </tr>\n",
       "    <tr>\n",
       "      <th>361757</th>\n",
       "      <td>55/55c8c0ea99210216b9cfab6150c02868887442319d6...</td>\n",
       "      <td>1224</td>\n",
       "      <td>521</td>\n",
       "      <td>&lt;table&gt;&lt;tr&gt;&lt;td&gt;위치&lt;/td&gt;&lt;td&gt;2014&lt;/td&gt;&lt;td&gt;확대설치&lt;/t...</td>\n",
       "    </tr>\n",
       "    <tr>\n",
       "      <th>361758</th>\n",
       "      <td>0d/0d6d6ae1384f6b1326804a5157ea965b34f64b90e31...</td>\n",
       "      <td>990</td>\n",
       "      <td>1212</td>\n",
       "      <td>&lt;table&gt;&lt;tr&gt;&lt;td&gt;젠더이슈&lt;/td&gt;&lt;td&gt;시설기준의 구성&lt;/td&gt;&lt;td&gt;시...</td>\n",
       "    </tr>\n",
       "    <tr>\n",
       "      <th>361759</th>\n",
       "      <td>08/08dc92668cc5c11448d31712be8167ca54987addc59...</td>\n",
       "      <td>971</td>\n",
       "      <td>660</td>\n",
       "      <td>&lt;table&gt;&lt;tr&gt;&lt;td&gt;젠더이슈&lt;/td&gt;&lt;td&gt;시설 기준의 구성&lt;/td&gt;&lt;td&gt;...</td>\n",
       "    </tr>\n",
       "    <tr>\n",
       "      <th>361760</th>\n",
       "      <td>48/48a2b269599f81b0f9f0fad61468606c80a6e04b380...</td>\n",
       "      <td>1008</td>\n",
       "      <td>865</td>\n",
       "      <td>&lt;table&gt;&lt;tr&gt;&lt;td&gt;검점항목&lt;/td&gt;&lt;td&gt;관련 법령&lt;/td&gt;&lt;td&gt;내용&lt;/...</td>\n",
       "    </tr>\n",
       "  </tbody>\n",
       "</table>\n",
       "<p>361761 rows × 4 columns</p>\n",
       "</div>"
      ],
      "text/plain": [
       "                                               image_path  width  height  \\\n",
       "0       e3/e38f0b278ee3cdea8481572e9d977fe85b807c187ce...    998     237   \n",
       "1       57/570d580cc81680d2ffbd711588531b20b29af36592d...   1276     216   \n",
       "2       f9/f9b8583eebf90bf0a7ec409f3e632a5bdd3d4c2020b...   1126     231   \n",
       "3       6a/6abcfe60f8f47f475c4b36f37cc2b4ff85119b95f71...   1222     404   \n",
       "4       08/08e527e1a8c2857b4827fbda9948d4338488a77fc33...    894     199   \n",
       "...                                                   ...    ...     ...   \n",
       "361756  98/98a514782f8c561c485014d18a246b2a1592c0390d8...   1325     790   \n",
       "361757  55/55c8c0ea99210216b9cfab6150c02868887442319d6...   1224     521   \n",
       "361758  0d/0d6d6ae1384f6b1326804a5157ea965b34f64b90e31...    990    1212   \n",
       "361759  08/08dc92668cc5c11448d31712be8167ca54987addc59...    971     660   \n",
       "361760  48/48a2b269599f81b0f9f0fad61468606c80a6e04b380...   1008     865   \n",
       "\n",
       "                                                    label  \n",
       "0       <table><tr><td>달성여부목표치의적극성</td><td>초과달성 (100%초...  \n",
       "1       <table><tr><td>(전년동월비,%)</td><td>'19.8</td><td...  \n",
       "2       <table><tr><td>구분</td><td>'16년</td><td>17년</td...  \n",
       "3       <table><tr><td>재정투자</td><td>민간자본활용</td><td>법·제...  \n",
       "4       <table><tr><td>항목</td><td>2019년(A)</td><td>201...  \n",
       "...                                                   ...  \n",
       "361756  <table><tr><td colspan=\"2\" rowspan=\"1\">구분</td>...  \n",
       "361757  <table><tr><td>위치</td><td>2014</td><td>확대설치</t...  \n",
       "361758  <table><tr><td>젠더이슈</td><td>시설기준의 구성</td><td>시...  \n",
       "361759  <table><tr><td>젠더이슈</td><td>시설 기준의 구성</td><td>...  \n",
       "361760  <table><tr><td>검점항목</td><td>관련 법령</td><td>내용</...  \n",
       "\n",
       "[361761 rows x 4 columns]"
      ]
     },
     "execution_count": 42,
     "metadata": {},
     "output_type": "execute_result"
    }
   ],
   "source": [
    "df_cleaned"
   ]
  },
  {
   "cell_type": "code",
   "execution_count": 43,
   "id": "8c969153",
   "metadata": {},
   "outputs": [],
   "source": [
    "df_cleaned.to_parquet(\"table_image_text_pair.parquet\", index=False)"
   ]
  },
  {
   "cell_type": "code",
   "execution_count": 76,
   "id": "489257c7",
   "metadata": {},
   "outputs": [
    {
     "data": {
      "text/plain": [
       "(364660, 361761)"
      ]
     },
     "execution_count": 76,
     "metadata": {},
     "output_type": "execute_result"
    }
   ],
   "source": [
    "len(glob(f\"{images_dir}/**/*.jpg\", recursive=True)), len(df_cleaned)"
   ]
  },
  {
   "cell_type": "code",
   "execution_count": 88,
   "id": "aea53909",
   "metadata": {},
   "outputs": [],
   "source": [
    "import io\n",
    "for row in df_cleaned.itertuples():\n",
    "    image_path = row.image_path\n",
    "    image = Image.open(os.path.join(images_dir, image_path))\n",
    "    buf = io.BytesIO()\n",
    "    image.save(buf, format='JPEG')\n",
    "    byte_data = buf.getvalue()\n",
    "    hash_val = hashlib.sha256(byte_data).hexdigest()\n",
    "    # get sha256\n",
    "    image.save(\"./test.jpg\", \"JPEG\")\n",
    "    hash = get_sha256(\"./test.jpg\")\n",
    "    break\n",
    "    "
   ]
  },
  {
   "cell_type": "markdown",
   "id": "ec0264bf",
   "metadata": {},
   "source": [
    "**label은 안씀**\n",
    "\n",
    " label 예시:\n",
    "```json\n",
    "{'file_id': 1254,\n",
    " 'file_name': 'T01_C01_50000_1025_42.jpg',\n",
    " 'file_format': 'jpg',\n",
    " 'img_size': 40692,\n",
    " 'table_meta': {'table_meta.doc_title': '2021년도 자체평가계획',\n",
    "  'table_meta.publisher': '기상청',\n",
    "  'table_meta.publish_year': '2021',\n",
    "  'table_meta.table_type': '기본표',\n",
    "  'table_meta.table_field': '경제',\n",
    "  'table_meta.table_unit': '',\n",
    "  'table_meta.table_title': '성과지표 달성도',\n",
    "  'table_meta.table_header': 'Y',\n",
    "  'table_meta.table_row_number': 4,\n",
    "  'table_meta.table_column_number': 5,\n",
    "  'table_meta.table_header_bold': 'N',\n",
    "  'table_meta.table_background': 'N',\n",
    "  'table_meta.html_path': '/원천데이터/T01/C01/T01_C01_50000_1025_42.html'},\n",
    " 'table_data': {'table_data.text_explanation': \"1. 적극성이 높을수록, 목표를 초과 달성하거나 100% 달성했을 때의 등급이 'S'로 높다.  2. 적극성이 보통이거나 낮을 경우, 목표를 100% 초과 달성하거나 100% 달성했을 때의 등급이 각각 'S'와 'A', 'A'와 'B'로 낮아진다.  3. 적극성에 관계없이 목표를 90% 미만 달성할 경우 등급이 극도로 저하되는데, 적극성이 높은 경우 'B' 등급, 보통인 경우 'C' 등급, 낮은 경우 'D' 등급으로 분류된다.\",\n",
    "  'table_data.text_summary': '표는 성과지표 달성도에 관한 표로 4행 5열이며 목표치의 적극성과 달성여부에 따른 등급 분류를 나타낸 표이다.'}}\n",
    "```"
   ]
  }
 ],
 "metadata": {
  "kernelspec": {
   "display_name": "kaiocr",
   "language": "python",
   "name": "python3"
  },
  "language_info": {
   "codemirror_mode": {
    "name": "ipython",
    "version": 3
   },
   "file_extension": ".py",
   "mimetype": "text/x-python",
   "name": "python",
   "nbconvert_exporter": "python",
   "pygments_lexer": "ipython3",
   "version": "3.12.8"
  }
 },
 "nbformat": 4,
 "nbformat_minor": 5
}
