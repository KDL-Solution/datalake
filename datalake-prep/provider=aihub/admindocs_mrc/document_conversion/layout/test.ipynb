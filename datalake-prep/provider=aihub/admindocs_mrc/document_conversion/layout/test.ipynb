{
 "cells": [
  {
   "cell_type": "code",
   "execution_count": null,
   "id": "b44c3f88",
   "metadata": {},
   "outputs": [],
   "source": [
    "import os\n",
    "from glob import glob\n",
    "import shutil\n",
    "from zipfile import ZipFile\n",
    "import json\n",
    "\n",
    "src = \"/home/kai/workspace/DeepDocs_Project/016.행정_문서_대상_기계독해_데이터\""
   ]
  },
  {
   "cell_type": "code",
   "execution_count": null,
   "id": "3c1fc360",
   "metadata": {},
   "outputs": [],
   "source": [
    "data = glob(f\"{src}/**/*.zip\", recursive=True)"
   ]
  },
  {
   "cell_type": "code",
   "execution_count": null,
   "id": "b9c1ff0c",
   "metadata": {},
   "outputs": [],
   "source": [
    "# unzip to \"./\"\n",
    "for file in data:\n",
    "    print(f\"Unzipping {file}...\")\n",
    "    with ZipFile(file, 'r') as zip_ref:\n",
    "        zip_ref.extractall(os.path.dirname(file).replace(src, \"./\"))\n",
    "    print(f\"Unzipped {file} to {os.path.dirname(file)}\")"
   ]
  },
  {
   "cell_type": "code",
   "execution_count": null,
   "id": "0e510985",
   "metadata": {},
   "outputs": [],
   "source": [
    "with open(\"01.데이터/1.Training/원천데이터/TS_tableqa.json\", \"r\", encoding=\"utf-8\") as f:\n",
    "    data = json.load(f)"
   ]
  },
  {
   "cell_type": "code",
   "execution_count": null,
   "id": "2fe61f97",
   "metadata": {},
   "outputs": [],
   "source": [
    "context = data['data'][0]['paragraphs'][0]['context']"
   ]
  },
  {
   "cell_type": "code",
   "execution_count": null,
   "id": "102606d8",
   "metadata": {},
   "outputs": [],
   "source": [
    "from bs4 import BeautifulSoup\n",
    "# context 앞뒤에 html 태그가 없으면 추가\n",
    "if not context.startswith(\"<html>\"):\n",
    "    context = \"<html>\" + context\n",
    "if not context.endswith(\"</html>\"):\n",
    "    context = context + \"</html>\"\n",
    "    \n",
    "# \\n을 <br>로 변경\n",
    "context = context.replace(\"\\n\", \"<br>\")\n",
    "\n",
    "bs = BeautifulSoup(context, \"html.parser\")"
   ]
  },
  {
   "cell_type": "code",
   "execution_count": null,
   "id": "df8f51db",
   "metadata": {},
   "outputs": [],
   "source": [
    "context"
   ]
  },
  {
   "cell_type": "code",
   "execution_count": null,
   "id": "4d79e388",
   "metadata": {},
   "outputs": [],
   "source": [
    "bs.find_all"
   ]
  },
  {
   "cell_type": "code",
   "execution_count": null,
   "id": "bf022c5c",
   "metadata": {},
   "outputs": [],
   "source": [
    "# bs에 \n",
    "for elem in bs.find_all(string=True):\n",
    "    if elem.parent.name not in ['style', 'script', 'head', 'title', 'meta', '[document]']:\n",
    "        if elem.strip():\n",
    "            new_div = bs.new_tag(\"div\")\n",
    "            new_div.string = elem\n",
    "            elem.replace_with(new_div)\n",
    "            \n",
    "# 모든 div에 indexing\n",
    "for i, div in enumerate(d.find_all('div')):\n",
    "    div['id'] = f\"div_{i}\"\n",
    "    div['class'] = \"text\"\n",
    "    div['style'] = \"font-size: 24px; line-height: 1.5; margin-bottom: 10px;\""
   ]
  },
  {
   "cell_type": "code",
   "execution_count": null,
   "id": "a2e74ccf",
   "metadata": {},
   "outputs": [],
   "source": [
    "with open(\"test.md\", \"w\", encoding=\"utf-8\") as f:\n",
    "    f.write(str(d))"
   ]
  }
 ],
 "metadata": {
  "kernelspec": {
   "display_name": "kaiocr",
   "language": "python",
   "name": "python3"
  },
  "language_info": {
   "codemirror_mode": {
    "name": "ipython",
    "version": 3
   },
   "file_extension": ".py",
   "mimetype": "text/x-python",
   "name": "python",
   "nbconvert_exporter": "python",
   "pygments_lexer": "ipython3",
   "version": "3.12.8"
  }
 },
 "nbformat": 4,
 "nbformat_minor": 5
}
