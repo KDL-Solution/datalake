{
 "cells": [
  {
   "cell_type": "code",
   "execution_count": null,
   "id": "4a4f878a",
   "metadata": {},
   "outputs": [],
   "source": [
    "manager.trigger_nas_processing()"
   ]
  },
  {
   "cell_type": "code",
   "execution_count": null,
   "id": "ff2c7bea",
   "metadata": {},
   "outputs": [],
   "source": [
    "# duck db\n",
    "import duckdb"
   ]
  },
  {
   "cell_type": "code",
   "execution_count": null,
   "id": "65e086a7",
   "metadata": {},
   "outputs": [],
   "source": [
    "conn = duckdb.connect(database=\"/mnt/AI_NAS/datalake/catalog/**/*.parquet\", read_only=True)"
   ]
  },
  {
   "cell_type": "code",
   "execution_count": null,
   "id": "4ab1b3b0",
   "metadata": {},
   "outputs": [],
   "source": [
    "result = conn.execute(\"\"\"\n",
    "    SELECT * FROM read_parquet('/mnt/AI_NAS/datalake/catalog/provider=*/dataset=*/task=*/variant=*/**/data.parquet', union_by_name=True)\n",
    "\"\"\").fetchdf()"
   ]
  },
  {
   "cell_type": "code",
   "execution_count": null,
   "id": "14136466",
   "metadata": {},
   "outputs": [],
   "source": [
    "from openai import OpenAI\n",
    "import time\n",
    "\n",
    "openai_api_key = \"EMPTY\"\n",
    "openai_api_base = \"http://localhost:9064/v1\"\n",
    "client = OpenAI(\n",
    "    api_key=openai_api_key,\n",
    "    base_url=openai_api_base,\n",
    ")"
   ]
  },
  {
   "cell_type": "code",
   "execution_count": null,
   "id": "147e2d3a",
   "metadata": {},
   "outputs": [],
   "source": [
    "# print model\n",
    "\n",
    "models = client.models.list()\n",
    "for model in models.data:\n",
    "    print(model.id)"
   ]
  },
  {
   "cell_type": "code",
   "execution_count": null,
   "id": "69a3690e",
   "metadata": {},
   "outputs": [],
   "source": [
    "import base64\n",
    "\n",
    "def base64_encode(\n",
    "    image_path,\n",
    "):\n",
    "    with open(image_path, \"rb\") as image_file:\n",
    "        image_bytes = image_file.read()\n",
    "    return base64.b64encode(image_bytes).decode(\"utf-8\")\n",
    "image_path = \"/home/kai/workspace/DeepDocs_Project/datalake/managers/test4.jpg\"\n",
    "base64_image = base64_encode(\n",
    "    image_path,\n",
    ")\n",
    "    \n",
    "messages = [\n",
    "        {\n",
    "            \"role\": \"user\",\n",
    "            \"content\": [\n",
    "                {\n",
    "                    \"type\": \"text\",\n",
    "                    \"text\": \"Extract all layout elements. Reading order does not matter.\",\n",
    "                },\n",
    "                {\n",
    "                    \"type\": \"image_url\",\n",
    "                    \"image_url\": {\n",
    "                        \"url\": f\"data:image/jpeg;base64,{base64_image}\",\n",
    "                    },\n",
    "                },\n",
    "            ],\n",
    "        },\n",
    "    ]"
   ]
  },
  {
   "cell_type": "code",
   "execution_count": null,
   "id": "9621e625",
   "metadata": {},
   "outputs": [],
   "source": [
    "\n",
    "\n",
    "start_time = time.time()\n",
    "completion = client.chat.completions.create(\n",
    "    model=\"adapter\",\n",
    "    messages=messages,\n",
    "    temperature=0.0,\n",
    ")\n",
    "end_time = time.time()\n",
    "elapsed_time = end_time - start_time\n",
    "tokens = completion.usage.total_tokens\n",
    "tokens_per_second = tokens / elapsed_time\n",
    "print(f\"Elapsed time: {elapsed_time:.2f} seconds\")\n",
    "print(f\"Tokens: {tokens}\")\n",
    "print(f\"Tokens per second: {tokens_per_second:.2f}\")"
   ]
  },
  {
   "cell_type": "code",
   "execution_count": null,
   "id": "b16f6128",
   "metadata": {},
   "outputs": [],
   "source": [
    "result = completion.choices[0].message.content"
   ]
  },
  {
   "cell_type": "code",
   "execution_count": null,
   "id": "70a319ca",
   "metadata": {},
   "outputs": [],
   "source": [
    "target"
   ]
  },
  {
   "cell_type": "code",
   "execution_count": null,
   "id": "f4a1afda",
   "metadata": {},
   "outputs": [],
   "source": [
    "from transformers import Qwen2VLImageProcessor"
   ]
  },
  {
   "cell_type": "code",
   "execution_count": null,
   "id": "0ffcf3a4",
   "metadata": {},
   "outputs": [],
   "source": [
    "processor = Qwen2VLImageProcessor.from_pretrained(\"/mnt/AI_NAS/AI_MODEL/checkpoints/Qwen/Qwen2.5-VL-3B-Instruct\")"
   ]
  },
  {
   "cell_type": "code",
   "execution_count": null,
   "id": "6c67b5fc",
   "metadata": {},
   "outputs": [],
   "source": [
    "import numpy as np\n",
    "image = Image.open(image_path)\n",
    "inputs = processor(\n",
    "    images=[image],\n",
    "    return_tensors=\"np\",\n",
    ")"
   ]
  },
  {
   "cell_type": "code",
   "execution_count": null,
   "id": "f97cf922",
   "metadata": {},
   "outputs": [],
   "source": [
    "inputs['pixel_values']"
   ]
  },
  {
   "cell_type": "code",
   "execution_count": null,
   "id": "41795c64",
   "metadata": {},
   "outputs": [],
   "source": [
    "from PIL import Image, ImageDraw, ImageFont\n",
    "import json\n",
    "image = Image.open(image_path)\n",
    "draw = ImageDraw.Draw(image)\n",
    "target = json.loads(result)\n",
    "\n",
    "for item in target:\n",
    "    class_ = item.get(\"type\", \"unknown\")\n",
    "    bbox = item.get(\"bbox\", [0, 0, 0, 0])\n",
    "    x0, y0, x1, y1 = bbox\n",
    "    x0, y0, x1, y1 = int(x0), int(y0), int(x1), int(y1)\n",
    "    # \n",
    "    x0 -= 14\n",
    "    x1 += 14\n",
    "    y0 -= 14\n",
    "    y1 += 14\n",
    "    draw.rectangle([x0, y0, x1, y1], outline=\"red\", width=2)\n",
    "    draw.text((x0, y0), class_, fill=\"red\")    "
   ]
  },
  {
   "cell_type": "code",
   "execution_count": 3,
   "id": "0170da83",
   "metadata": {},
   "outputs": [
    {
     "name": "stderr",
     "output_type": "stream",
     "text": [
      "2025-06-16 11:34:19,783 - datalake_client - INFO - ✅ NAS API 서버 연결 확인: http://192.168.20.62:8000\n"
     ]
    }
   ],
   "source": [
    "from datalake_client import DatalakeClient\n",
    "from datasets import Dataset, load_from_disk\n",
    "import os\n",
    "from datetime import datetime\n",
    "from glob import glob\n",
    "import pandas as pd\n",
    "# datalake_client.py\n",
    "manager = DatalakeClient(\n",
    "    nas_api_url=\"http://192.168.20.62:8000\")"
   ]
  },
  {
   "cell_type": "code",
   "execution_count": 6,
   "id": "28e1f1c7",
   "metadata": {},
   "outputs": [
    {
     "name": "stdout",
     "output_type": "stream",
     "text": [
      "\n",
      "============================================================\n",
      "📊 NAS Data Processing Dashboard\n",
      "============================================================\n",
      "📦 Pending: 1개\n",
      "🔄 Processing: 0개\n",
      "❌ Failed: 0개\n",
      "🖥️ Server Status: running\n",
      "⏰ Last Updated: 2025-06-16T11:34:34.857913\n",
      "============================================================\n",
      "\n"
     ]
    }
   ],
   "source": [
    "manager.show_nas_dashboard()"
   ]
  },
  {
   "cell_type": "code",
   "execution_count": 5,
   "id": "68e00dba",
   "metadata": {},
   "outputs": [],
   "source": [
    "parquets = glob(\"/mnt/AI_NAS/datalake/catalog/provider=*/dataset=funsd_plus/task=*/**/*.parquet\", recursive=True)"
   ]
  },
  {
   "cell_type": "code",
   "execution_count": 7,
   "id": "c1437d24",
   "metadata": {},
   "outputs": [
    {
     "data": {
      "text/plain": [
       "['/mnt/AI_NAS/datalake/catalog/provider=huggingface/dataset=funsd_plus/task=vqa/variant=base_vqa/lang=en/src=real/data.parquet',\n",
       " '/mnt/AI_NAS/datalake/catalog/provider=huggingface/dataset=funsd_plus/task=kie/variant=base_kie/lang=en/src=real/data.parquet']"
      ]
     },
     "execution_count": 7,
     "metadata": {},
     "output_type": "execute_result"
    }
   ],
   "source": [
    "parquets"
   ]
  },
  {
   "cell_type": "code",
   "execution_count": 8,
   "id": "f17b468b",
   "metadata": {},
   "outputs": [
    {
     "name": "stdout",
     "output_type": "stream",
     "text": [
      "provider: huggingface, dataset: funsd_plus, task: vqa, variant: base_vqa, meta: {'lang': 'en', 'src': 'real'}\n"
     ]
    },
    {
     "data": {
      "application/vnd.jupyter.widget-view+json": {
       "model_id": "886476ba89c14917962dbf96fc2b2700",
       "version_major": 2,
       "version_minor": 0
      },
      "text/plain": [
       "Saving the dataset (0/1 shards):   0%|          | 0/10 [00:00<?, ? examples/s]"
      ]
     },
     "metadata": {},
     "output_type": "display_data"
    },
    {
     "name": "stderr",
     "output_type": "stream",
     "text": [
      "2025-06-16 11:34:42,778 - datalake_client - INFO - 📥 Raw data 업로드 시작: huggingface/funsd_plus\n",
      "2025-06-16 11:34:42,790 - datalake_client - INFO - 🗑️  기존 pending 데이터 정리: 1개 발견\n",
      "2025-06-16 11:34:42,796 - datalake_client - INFO - 🗑️ 삭제 완료: funsd_plus_raw_image_8c0c9a07_20250616113208_kai\n",
      "2025-06-16 11:34:42,797 - datalake_client - INFO - ✅ 기존 pending 데이터 정리 완료: 1개 삭제\n",
      "2025-06-16 11:34:42,797 - datalake_client - INFO - 📂 데이터 파일 로드 중: /home/kai/workspace/DeepDocs_Project/datalake/managers/temp/huggingface/funsd_plus/vqa/base_vqa\n",
      "2025-06-16 11:34:42,802 - datalake_client - INFO - ✅ datasets 폴더 로드 완료: 10 행\n",
      "2025-06-16 11:34:42,802 - datalake_client - INFO - ✅ 데이터 파일 로드 완료: ./temp/huggingface/funsd_plus/vqa/base_vqa\n",
      "2025-06-16 11:34:42,803 - datalake_client - INFO - 데이터셋 컬럼: ['image_path', 'query', 'label', 'width', 'height', 'date']\n",
      "2025-06-16 11:34:42,803 - datalake_client - INFO - 🔍 JSON 변환 대상 컬럼 검사 시작\n",
      "2025-06-16 11:34:42,805 - datalake_client - INFO - 📄 JSON 변환 대상 컬럼 없음\n",
      "2025-06-16 11:34:42,807 - datalake_client - INFO - 🔄 파일 컬럼 표준화: image_path → file_path\n",
      "2025-06-16 11:34:42,809 - datalake_client - INFO - 📄 파일 분석 결과: variant=image, 이미지컬럼=[], 파일컬럼=['image_path'], 확장자={'.jpg'}\n"
     ]
    },
    {
     "data": {
      "application/vnd.jupyter.widget-view+json": {
       "model_id": "3e639e84e220418595b5a0dd28d20fb7",
       "version_major": 2,
       "version_minor": 0
      },
      "text/plain": [
       "Map:   0%|          | 0/10 [00:00<?, ? examples/s]"
      ]
     },
     "metadata": {},
     "output_type": "display_data"
    },
    {
     "data": {
      "application/vnd.jupyter.widget-view+json": {
       "model_id": "fee363eb2fe142fb91097c1043cab404",
       "version_major": 2,
       "version_minor": 0
      },
      "text/plain": [
       "Saving the dataset (0/1 shards):   0%|          | 0/10 [00:00<?, ? examples/s]"
      ]
     },
     "metadata": {},
     "output_type": "display_data"
    },
    {
     "name": "stderr",
     "output_type": "stream",
     "text": [
      "2025-06-16 11:34:42,880 - datalake_client - INFO - 📦 datasets 저장 완료: /mnt/AI_NAS/datalake/migrate_test/staging/pending/funsd_plus_raw_image_2479be4f_20250616113442_kai\n",
      "2025-06-16 11:34:42,881 - datalake_client - INFO - ✅ Task 데이터 업로드 완료: /mnt/AI_NAS/datalake/migrate_test/staging/pending/funsd_plus_raw_image_2479be4f_20250616113442_kai\n"
     ]
    },
    {
     "name": "stdout",
     "output_type": "stream",
     "text": [
      "provider: huggingface, dataset: funsd_plus, task: kie, variant: base_kie, meta: {'lang': 'en', 'src': 'real'}\n"
     ]
    },
    {
     "data": {
      "application/vnd.jupyter.widget-view+json": {
       "model_id": "94dbac81de3a43ee8a09b5b627124717",
       "version_major": 2,
       "version_minor": 0
      },
      "text/plain": [
       "Saving the dataset (0/1 shards):   0%|          | 0/10 [00:00<?, ? examples/s]"
      ]
     },
     "metadata": {},
     "output_type": "display_data"
    },
    {
     "name": "stderr",
     "output_type": "stream",
     "text": [
      "2025-06-16 11:34:42,907 - datalake_client - INFO - 📥 Raw data 업로드 시작: huggingface/funsd_plus\n",
      "2025-06-16 11:34:42,914 - datalake_client - INFO - 🗑️  기존 pending 데이터 정리: 1개 발견\n",
      "2025-06-16 11:34:42,920 - datalake_client - INFO - 🗑️ 삭제 완료: funsd_plus_raw_image_2479be4f_20250616113442_kai\n",
      "2025-06-16 11:34:42,921 - datalake_client - INFO - ✅ 기존 pending 데이터 정리 완료: 1개 삭제\n",
      "2025-06-16 11:34:42,922 - datalake_client - INFO - 📂 데이터 파일 로드 중: /home/kai/workspace/DeepDocs_Project/datalake/managers/temp/huggingface/funsd_plus/kie/base_kie\n",
      "2025-06-16 11:34:42,927 - datalake_client - INFO - ✅ datasets 폴더 로드 완료: 10 행\n",
      "2025-06-16 11:34:42,927 - datalake_client - INFO - ✅ 데이터 파일 로드 완료: ./temp/huggingface/funsd_plus/kie/base_kie\n",
      "2025-06-16 11:34:42,928 - datalake_client - INFO - 데이터셋 컬럼: ['image_path', 'label', 'width', 'height', 'date']\n",
      "2025-06-16 11:34:42,929 - datalake_client - INFO - 🔍 JSON 변환 대상 컬럼 검사 시작\n",
      "2025-06-16 11:34:42,931 - datalake_client - INFO - 📄 JSON 변환 대상 컬럼 없음\n",
      "2025-06-16 11:34:42,933 - datalake_client - INFO - 🔄 파일 컬럼 표준화: image_path → file_path\n",
      "2025-06-16 11:34:42,935 - datalake_client - INFO - 📄 파일 분석 결과: variant=image, 이미지컬럼=[], 파일컬럼=['image_path'], 확장자={'.jpg'}\n"
     ]
    },
    {
     "data": {
      "application/vnd.jupyter.widget-view+json": {
       "model_id": "2754cd4cb7c14a52b844d778879ee3ff",
       "version_major": 2,
       "version_minor": 0
      },
      "text/plain": [
       "Map:   0%|          | 0/10 [00:00<?, ? examples/s]"
      ]
     },
     "metadata": {},
     "output_type": "display_data"
    },
    {
     "data": {
      "application/vnd.jupyter.widget-view+json": {
       "model_id": "58c01ddaca734ace81c087ebb27ab239",
       "version_major": 2,
       "version_minor": 0
      },
      "text/plain": [
       "Saving the dataset (0/1 shards):   0%|          | 0/10 [00:00<?, ? examples/s]"
      ]
     },
     "metadata": {},
     "output_type": "display_data"
    },
    {
     "name": "stderr",
     "output_type": "stream",
     "text": [
      "2025-06-16 11:34:42,993 - datalake_client - INFO - 📦 datasets 저장 완료: /mnt/AI_NAS/datalake/migrate_test/staging/pending/funsd_plus_raw_image_9d3f0aec_20250616113442_kai\n",
      "2025-06-16 11:34:42,994 - datalake_client - INFO - ✅ Task 데이터 업로드 완료: /mnt/AI_NAS/datalake/migrate_test/staging/pending/funsd_plus_raw_image_9d3f0aec_20250616113442_kai\n"
     ]
    }
   ],
   "source": [
    "\n",
    "def apply_image_path(row):\n",
    "    if row['image_path']:\n",
    "        path = f\"/mnt/AI_NAS/datalake/{row['image_path']}\"\n",
    "        # check path exists\n",
    "        if os.path.exists(path):\n",
    "            return path\n",
    "        raise FileNotFoundError(f\"Image path does not exist: {path}\")\n",
    "    return None\n",
    "error_list = []\n",
    "for parquet_path in parquets:\n",
    "    try:\n",
    "        db = Dataset.from_parquet(parquet_path)\n",
    "        db = db.map(lambda x: {\"image_path\": apply_image_path(x)})\n",
    "        # if db에 date가 없을경우\n",
    "        if \"date\" not in db.column_names:\n",
    "            db = db.map(lambda x: {\"date\": datetime.now().strftime(\"%Y-%m-%d\")})\n",
    "            \n",
    "        sample_image_path = db[0]['image_path']\n",
    "        \n",
    "        provider, dataset, task, variant, *etc = parquet_path.replace(\"/mnt/AI_NAS/datalake/catalog/\",\"\").split(\"/\")[:-1]\n",
    "        provider = provider.replace(\"provider=\", \"\")\n",
    "        dataset = dataset.replace(\"dataset=\", \"\")\n",
    "        task = task.replace(\"task=\", \"\")\n",
    "        variant = variant.replace(\"variant=\", \"\")\n",
    "        meta = {}\n",
    "        for et in etc:\n",
    "            key, value = et.split(\"=\")\n",
    "            meta[key] = value\n",
    "        if \"table\" in variant:\n",
    "            meta[\"mod\"] = \"table\"        \n",
    "\n",
    "        print(f\"provider: {provider}, dataset: {dataset}, task: {task}, variant: {variant}, meta: {meta}\")\n",
    "        temp_path = f\"./temp/{provider}/{dataset}/{task}/{variant}\"\n",
    "        # db 에서 10개만 \n",
    "        db = db.select(range(10))\n",
    "        db.save_to_disk(temp_path)\n",
    "        staging_dir, job_id = manager.upload_raw_data(\n",
    "            data_file=temp_path,\n",
    "            provider=provider,\n",
    "            dataset=dataset,\n",
    "            dataset_description=\"설명을 변경해주세요.\",\n",
    "            original_source=\"링크를 입력해주세요.\",\n",
    "        )\n",
    "        # manager.trigger_nas_processing()\n",
    "        # manager.wait_for_job_completion(job_id, timeout=1280000)\n",
    "        # uploaded_db = Dataset.from_parquet(f\"/mnt/AI_NAS/datalake/migrate_test/catalog/provider={provider}/dataset={dataset}/task=raw/variant=*/data.parquet\")\n",
    "        # uploaded_db.save_to_disk(temp_path)\n",
    "        # manager.upload_task_data(\n",
    "        #     data_file=temp_path,\n",
    "        #     provider=provider,\n",
    "        #     dataset=dataset,\n",
    "        #     task=task,\n",
    "        #     variant=variant,\n",
    "        #     dataset_description=\"설명을 변경해주세요.\",\n",
    "        #     original_source=\"링크를 입력해주세요.\",\n",
    "        #     **meta,  # unpack meta dictionary\n",
    "        # )\n",
    "    except Exception as e:\n",
    "        print(f\"Error processing {parquet_path}: {e}\")\n",
    "        error_list.append({\n",
    "            \"parquet_path\": parquet_path,\n",
    "            \"error\": str(e)\n",
    "        })"
   ]
  },
  {
   "cell_type": "code",
   "execution_count": 16,
   "id": "1b888aa2",
   "metadata": {},
   "outputs": [
    {
     "name": "stderr",
     "output_type": "stream",
     "text": [
      "2025-06-16 11:24:09,255 - datalake_client - INFO - 📥 Raw data 업로드 시작: huggingface/funsd_plus\n",
      "2025-06-16 11:24:09,277 - datalake_client - INFO - 📂 데이터 파일 로드 중: /home/kai/workspace/DeepDocs_Project/datalake/managers/temp/huggingface/funsd_plus/vqa/base_vqa\n",
      "2025-06-16 11:24:09,286 - datalake_client - INFO - ✅ datasets 폴더 로드 완료: 10 행\n",
      "2025-06-16 11:24:09,287 - datalake_client - INFO - ✅ 데이터 파일 로드 완료: ./temp/huggingface/funsd_plus/vqa/base_vqa\n",
      "2025-06-16 11:24:09,289 - datalake_client - INFO - 데이터셋 컬럼: ['image_path', 'query', 'label', 'width', 'height', 'date']\n",
      "2025-06-16 11:24:09,291 - datalake_client - INFO - 🔍 JSON 변환 대상 컬럼 검사 시작\n",
      "2025-06-16 11:24:09,295 - datalake_client - INFO - 📄 JSON 변환 대상 컬럼 없음\n",
      "2025-06-16 11:24:09,300 - datalake_client - INFO - 🔄 파일 컬럼 표준화: image_path → file_path\n",
      "2025-06-16 11:24:09,304 - datalake_client - INFO - 📄 파일 분석 결과: variant=image, 이미지컬럼=[], 파일컬럼=['image_path'], 확장자={'.jpg'}\n"
     ]
    },
    {
     "data": {
      "application/vnd.jupyter.widget-view+json": {
       "model_id": "cc3c6707da13489c8571ecf488a82521",
       "version_major": 2,
       "version_minor": 0
      },
      "text/plain": [
       "Map:   0%|          | 0/10 [00:00<?, ? examples/s]"
      ]
     },
     "metadata": {},
     "output_type": "display_data"
    },
    {
     "data": {
      "application/vnd.jupyter.widget-view+json": {
       "model_id": "3d6b71cee07b4a5691c567ed0f6bc121",
       "version_major": 2,
       "version_minor": 0
      },
      "text/plain": [
       "Saving the dataset (0/1 shards):   0%|          | 0/10 [00:00<?, ? examples/s]"
      ]
     },
     "metadata": {},
     "output_type": "display_data"
    },
    {
     "name": "stderr",
     "output_type": "stream",
     "text": [
      "2025-06-16 11:24:09,405 - datalake_client - INFO - 📦 datasets 저장 완료: /mnt/AI_NAS/datalake/migrate_test/staging/pending/funsd_plus_raw_image_2b6841d0_20250616112409_kai\n",
      "2025-06-16 11:24:09,407 - datalake_client - INFO - ✅ Task 데이터 업로드 완료: /mnt/AI_NAS/datalake/migrate_test/staging/pending/funsd_plus_raw_image_2b6841d0_20250616112409_kai\n"
     ]
    }
   ],
   "source": [
    "staging_dir, job_id = manager.upload_raw_data(\n",
    "    data_file=temp_path,\n",
    "    provider=provider,\n",
    "    dataset=dataset,\n",
    "    dataset_description=\"설명을 변경해주세요.\",\n",
    "    original_source=\"링크를 입력해주세요.\",\n",
    ")"
   ]
  },
  {
   "cell_type": "code",
   "execution_count": 17,
   "id": "c0633a54",
   "metadata": {},
   "outputs": [
    {
     "name": "stderr",
     "output_type": "stream",
     "text": [
      "2025-06-16 11:24:10,311 - datalake_client - INFO - 🔄 NAS 처리 요청 중...\n",
      "2025-06-16 11:24:10,321 - datalake_client - INFO - ✅ 처리 작업 시작됨: job_20250616_112410_319\n"
     ]
    },
    {
     "data": {
      "text/plain": [
       "'job_20250616_112410_319'"
      ]
     },
     "execution_count": 17,
     "metadata": {},
     "output_type": "execute_result"
    }
   ],
   "source": [
    "manager.trigger_nas_processing()"
   ]
  },
  {
   "cell_type": "code",
   "execution_count": null,
   "id": "341155cb",
   "metadata": {},
   "outputs": [],
   "source": [
    "manager.upload_raw_data(\n",
    "    data_file=\"arrow경로\",\n",
    "    provider=\"provider_name\",\n",
    "    dataset=\"dataset_name\",\n",
    "    dataset_description=\"설명을 변경해주세요.\",\n",
    "    original_source=\"링크를 입력해주세요.\",\n",
    ")"
   ]
  },
  {
   "cell_type": "code",
   "execution_count": null,
   "id": "0f89f242",
   "metadata": {},
   "outputs": [],
   "source": [
    "manager.upload_task_data(\n",
    "    data_file=parquet_path,\n",
    "    provider=provider,\n",
    "    dataset=dataset,\n",
    "    task=task,\n",
    "    variant=variant,\n",
    "    dataset_description=\"설명을 변경해주세요.\",\n",
    "    original_source=\"링크를 입력해주세요.\",\n",
    "    **meta,  # unpack meta dictionary\n",
    ")"
   ]
  },
  {
   "cell_type": "code",
   "execution_count": 18,
   "id": "697f3db0",
   "metadata": {},
   "outputs": [],
   "source": [
    "import duckdb"
   ]
  },
  {
   "cell_type": "code",
   "execution_count": 19,
   "id": "2fbd5ba4",
   "metadata": {},
   "outputs": [],
   "source": [
    "client = duckdb.connect()"
   ]
  },
  {
   "cell_type": "code",
   "execution_count": 60,
   "id": "f1da4c82",
   "metadata": {},
   "outputs": [],
   "source": [
    "\n",
    "result = client.execute(\"\"\"\n",
    "    SELECT * FROM read_parquet('/mnt/AI_NAS/datalake/migrate_test/catalog/provider=*/dataset=*/task=*/variant=*/data.parquet', union_by_name=True, filename=True, hive_partitioning=True)\n",
    "\"\"\").fetchdf()"
   ]
  },
  {
   "cell_type": "code",
   "execution_count": 61,
   "id": "b05a44df",
   "metadata": {},
   "outputs": [],
   "source": [
    "d = Dataset.from_pandas(result)"
   ]
  },
  {
   "cell_type": "code",
   "execution_count": 62,
   "id": "0a92ef85",
   "metadata": {},
   "outputs": [
    {
     "data": {
      "text/plain": [
       "{'query': 'This is a FAX COVER SHEET document. Please extract the following fields and return the result in the same JSON',\n",
       " 'label': '{\"FROM:\": {\"<|value|>\": \"Marco Giamberardino The Tobacco Institute 1875 I Street, N.W ., Suite 800 EPA Liga Washington, DC 20006 (202) 457-4800 (202) 457-9350 (FAX)\", \"<|bbox|>\": [0.2248, 0.2745, 0.8297, 0.3908]}, \"ID:\": {\"<|value|>\": \"2024579311\", \"<|bbox|>\": [0.5748, 0.066, 0.6802, 0.0787]}, \"PAGE\": {\"<|value|>\": \"1/4\", \"<|bbox|>\": [0.8815, 0.0667, 0.9106, 0.0787]}, \"TO:\": {\"<|value|>\": \"Mark Berlind\", \"<|bbox|>\": [0.2267, 0.2156, 0.3547, 0.2326]}, \"DATE:\": {\"<|value|>\": \"July 24, 1998\", \"<|bbox|>\": [0.2248, 0.4085, 0.3471, 0.427]}, \"Recipient\\'s Fax Number:\": {\"<|value|>\": \"212-907-5805\", \"<|bbox|>\": [0.3697, 0.7426, 0.4939, 0.7624]}}',\n",
       " 'width': 1063,\n",
       " 'height': 1410,\n",
       " 'date': '2025-06-09',\n",
       " 'path': 'provider=huggingface/dataset=funsd_plus/0c515a5ac5b055b3dfcd220bee34694fd1ac39c84d85cdc0cadf32aac07dd43e.jpg',\n",
       " 'hash': '0c515a5ac5b055b3dfcd220bee34694fd1ac39c84d85cdc0cadf32aac07dd43e',\n",
       " 'filename': '/mnt/AI_NAS/datalake/migrate_test/catalog/provider=huggingface/dataset=funsd_plus/task=raw/variant=image/data.parquet',\n",
       " 'dataset': 'funsd_plus',\n",
       " 'provider': 'huggingface',\n",
       " 'task': 'raw',\n",
       " 'variant': 'image'}"
      ]
     },
     "execution_count": 62,
     "metadata": {},
     "output_type": "execute_result"
    }
   ],
   "source": [
    "d[0]"
   ]
  },
  {
   "cell_type": "code",
   "execution_count": 63,
   "id": "2f0638af",
   "metadata": {},
   "outputs": [
    {
     "data": {
      "application/vnd.jupyter.widget-view+json": {
       "model_id": "f1fc0fceb13c473eb79fe3a751849713",
       "version_major": 2,
       "version_minor": 0
      },
      "text/plain": [
       "Map:   0%|          | 0/10 [00:00<?, ? examples/s]"
      ]
     },
     "metadata": {},
     "output_type": "display_data"
    }
   ],
   "source": [
    "# path에 /mnt/AI_NASd/datalake/migrate_test/assets 추가\n",
    "d = d.map(lambda x: {\"path\": f\"/mnt/AI_NAS/datalake/migrate_test/assets/{x['path']}\"})"
   ]
  },
  {
   "cell_type": "code",
   "execution_count": 64,
   "id": "5fd3509a",
   "metadata": {},
   "outputs": [],
   "source": [
    "# d의 filename이 exsts한지 확인\n",
    "def check_image_exists(row):\n",
    "    if row['path']:\n",
    "        path = row['path']\n",
    "        return os.path.exists(path)\n",
    "    return False"
   ]
  },
  {
   "cell_type": "code",
   "execution_count": 65,
   "id": "66f5e032",
   "metadata": {},
   "outputs": [
    {
     "data": {
      "application/vnd.jupyter.widget-view+json": {
       "model_id": "729102120ebd47da90ba00f6dfd7a0b4",
       "version_major": 2,
       "version_minor": 0
      },
      "text/plain": [
       "Map:   0%|          | 0/10 [00:00<?, ? examples/s]"
      ]
     },
     "metadata": {},
     "output_type": "display_data"
    }
   ],
   "source": [
    "d = d.map(lambda x: {\"image_exists\": check_image_exists(x)})"
   ]
  }
 ],
 "metadata": {
  "kernelspec": {
   "display_name": "kaiocr",
   "language": "python",
   "name": "python3"
  },
  "language_info": {
   "codemirror_mode": {
    "name": "ipython",
    "version": 3
   },
   "file_extension": ".py",
   "mimetype": "text/x-python",
   "name": "python",
   "nbconvert_exporter": "python",
   "pygments_lexer": "ipython3",
   "version": "3.12.8"
  }
 },
 "nbformat": 4,
 "nbformat_minor": 5
}
