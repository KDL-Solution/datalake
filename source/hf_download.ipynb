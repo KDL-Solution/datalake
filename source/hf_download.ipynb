{
 "cells": [
  {
   "cell_type": "code",
   "execution_count": 1,
   "id": "51c6a629",
   "metadata": {},
   "outputs": [],
   "source": [
    "from datasets import load_dataset, concatenate_datasets\n",
    "from PIL import Image\n",
    "import os\n",
    "import numpy as np\n",
    "import pandas as pd\n",
    "import ipywidgets as widgets\n",
    "from IPython.display import display\n",
    "import io\n",
    "import base64\n",
    "import cv2\n",
    "import json"
   ]
  },
  {
   "cell_type": "code",
   "execution_count": 2,
   "id": "1ef7c3ab",
   "metadata": {},
   "outputs": [
    {
     "data": {
      "application/vnd.jupyter.widget-view+json": {
       "model_id": "ca771a409f194ed6905e7158e208a1b4",
       "version_major": 2,
       "version_minor": 0
      },
      "text/plain": [
       "README.md:   0%|          | 0.00/802 [00:00<?, ?B/s]"
      ]
     },
     "metadata": {},
     "output_type": "display_data"
    },
    {
     "data": {
      "application/vnd.jupyter.widget-view+json": {
       "model_id": "c27c3b03fe914b5dbb12de1c0e70e48e",
       "version_major": 2,
       "version_minor": 0
      },
      "text/plain": [
       "train-00000-of-00006.parquet:   0%|          | 0.00/36.1M [00:00<?, ?B/s]"
      ]
     },
     "metadata": {},
     "output_type": "display_data"
    },
    {
     "data": {
      "application/vnd.jupyter.widget-view+json": {
       "model_id": "0690081823ae466fa734c3d285c5209c",
       "version_major": 2,
       "version_minor": 0
      },
      "text/plain": [
       "train-00001-of-00006.parquet:   0%|          | 0.00/34.6M [00:00<?, ?B/s]"
      ]
     },
     "metadata": {},
     "output_type": "display_data"
    },
    {
     "data": {
      "application/vnd.jupyter.widget-view+json": {
       "model_id": "b101dc40c11f4849bc9882b7b64a3f06",
       "version_major": 2,
       "version_minor": 0
      },
      "text/plain": [
       "train-00002-of-00006.parquet:   0%|          | 0.00/32.6M [00:00<?, ?B/s]"
      ]
     },
     "metadata": {},
     "output_type": "display_data"
    },
    {
     "data": {
      "application/vnd.jupyter.widget-view+json": {
       "model_id": "bf9bcd060e22439e8509c0d69c109bac",
       "version_major": 2,
       "version_minor": 0
      },
      "text/plain": [
       "train-00003-of-00006.parquet:   0%|          | 0.00/36.8M [00:00<?, ?B/s]"
      ]
     },
     "metadata": {},
     "output_type": "display_data"
    },
    {
     "data": {
      "application/vnd.jupyter.widget-view+json": {
       "model_id": "5c27bbdd13c244db88cc9edbed2bd259",
       "version_major": 2,
       "version_minor": 0
      },
      "text/plain": [
       "train-00004-of-00006.parquet:   0%|          | 0.00/30.7M [00:00<?, ?B/s]"
      ]
     },
     "metadata": {},
     "output_type": "display_data"
    },
    {
     "data": {
      "application/vnd.jupyter.widget-view+json": {
       "model_id": "a565122491ff405a9bc92967594c4a92",
       "version_major": 2,
       "version_minor": 0
      },
      "text/plain": [
       "train-00005-of-00006.parquet:   0%|          | 0.00/35.5M [00:00<?, ?B/s]"
      ]
     },
     "metadata": {},
     "output_type": "display_data"
    },
    {
     "data": {
      "application/vnd.jupyter.widget-view+json": {
       "model_id": "1d2a0e024b7f41df8d35650570c14f58",
       "version_major": 2,
       "version_minor": 0
      },
      "text/plain": [
       "test-00000-of-00003.parquet:   0%|          | 0.00/36.1M [00:00<?, ?B/s]"
      ]
     },
     "metadata": {},
     "output_type": "display_data"
    },
    {
     "data": {
      "application/vnd.jupyter.widget-view+json": {
       "model_id": "4b03149aab2c478d899b07f67c4a6b4b",
       "version_major": 2,
       "version_minor": 0
      },
      "text/plain": [
       "test-00001-of-00003.parquet:   0%|          | 0.00/30.1M [00:00<?, ?B/s]"
      ]
     },
     "metadata": {},
     "output_type": "display_data"
    },
    {
     "data": {
      "application/vnd.jupyter.widget-view+json": {
       "model_id": "a510e8d0241f4629a20be861da25cb2a",
       "version_major": 2,
       "version_minor": 0
      },
      "text/plain": [
       "test-00002-of-00003.parquet:   0%|          | 0.00/42.3M [00:00<?, ?B/s]"
      ]
     },
     "metadata": {},
     "output_type": "display_data"
    },
    {
     "data": {
      "application/vnd.jupyter.widget-view+json": {
       "model_id": "1c8602d626c44735968e30e87ca90e9a",
       "version_major": 2,
       "version_minor": 0
      },
      "text/plain": [
       "Generating train split:   0%|          | 0/1457 [00:00<?, ? examples/s]"
      ]
     },
     "metadata": {},
     "output_type": "display_data"
    },
    {
     "data": {
      "application/vnd.jupyter.widget-view+json": {
       "model_id": "333a62c0b1884afa83d1731cce7f5dce",
       "version_major": 2,
       "version_minor": 0
      },
      "text/plain": [
       "Generating test split:   0%|          | 0/743 [00:00<?, ? examples/s]"
      ]
     },
     "metadata": {},
     "output_type": "display_data"
    }
   ],
   "source": [
    "ds = load_dataset(\"didi0di/finance-legal-mrc_merged-table\")"
   ]
  },
  {
   "cell_type": "code",
   "execution_count": 3,
   "id": "087ca749",
   "metadata": {},
   "outputs": [],
   "source": [
    "# train, validation, test, dev 모두 합치기 (없는것 무시)\n",
    "def load_and_concatenate_datasets(dataset_):\n",
    "    datasets = []\n",
    "    for split in ['train', 'validation', 'test', 'dev']:\n",
    "        if split in dataset_:\n",
    "            ds_split = dataset_[split]\n",
    "            datasets.append(ds_split)\n",
    "    return concatenate_datasets(datasets)\n",
    "ds = load_and_concatenate_datasets(ds)"
   ]
  },
  {
   "cell_type": "code",
   "execution_count": 8,
   "id": "45a44405",
   "metadata": {},
   "outputs": [
    {
     "data": {
      "application/vnd.jupyter.widget-view+json": {
       "model_id": "41a2054fc4b14426a4017a869712e896",
       "version_major": 2,
       "version_minor": 0
      },
      "text/plain": [
       "Saving the dataset (0/8 shards):   0%|          | 0/2200 [00:00<?, ? examples/s]"
      ]
     },
     "metadata": {},
     "output_type": "display_data"
    }
   ],
   "source": [
    "ds.save_to_disk(\"finance-legal-mrc_merged-table\")"
   ]
  },
  {
   "cell_type": "code",
   "execution_count": 7,
   "id": "d953caa9",
   "metadata": {},
   "outputs": [
    {
     "data": {
      "text/plain": [
       "{'image': <PIL.PngImagePlugin.PngImageFile image mode=RGBA size=1024x305>,\n",
       " 'table_title': '디지털 소비 현황 및 거래 유형별 현황',\n",
       " 'table_html': '<table><tbody><tr><td rowspan=\"2\">유형</td><td>2021년 조사(N=10,000)</td><td>2019년 조사(N=8,000)</td><td rowspan=\"2\">2019년 대비 2021년 증감률</td></tr><tr><td colspan=\"2\">디지털 소비자(%)</td></tr><tr><td>전체</td><td>82.1(8,207명)</td><td>44.0(3,523명)</td><td>+38.1%</td></tr><tr><td>TV홈쇼핑</td><td>40.3</td><td>27.3</td><td>+13.0%</td></tr><tr><td>인터넷·모바일 쇼핑</td><td>65.8</td><td>43.2</td><td>+22.6%</td></tr><tr><td>SNS 플랫폼 쇼핑</td><td>20.8</td><td>4.1</td><td>+16.7%</td></tr><tr><td>해외직구</td><td>9.4</td><td>6.5</td><td>+2.9%</td></tr><tr><td>개인간(C2C) 거래 플랫폼 쇼핑</td><td>16.6</td><td>-</td><td>-</td></tr></tbody></table>'}"
      ]
     },
     "execution_count": 7,
     "metadata": {},
     "output_type": "execute_result"
    }
   ],
   "source": [
    "ds[232]"
   ]
  },
  {
   "cell_type": "code",
   "execution_count": null,
   "id": "ad449d4b",
   "metadata": {},
   "outputs": [],
   "source": [
    "def display_sample(idx):\n",
    "    data = ds[idx]\n",
    "    img = Image.open(io.BytesIO(base64.b64decode(data[\"image\"])))\n",
    "    img_np = np.array(img)\n",
    "    annots = data[\"annotations\"]\n",
    "    \n",
    "    bboxes = annots['bboxes']        \n",
    "    ner_tags = annots['ner_tags']\n",
    "    words = annots['words']\n",
    "    for bbox, ner_tag, word in zip(bboxes, ner_tags, words):\n",
    "        if ner_tag != 0:  # Assuming 0 is the background class\n",
    "            x1, y1, x2, y2 = bbox\n",
    "            img_np = cv2.rectangle(img_np, (x1, y1), (x2, y2), (255, 0, 0), 2)\n",
    "            img_np = cv2.putText(img_np, word, (x1, y1 - 10), cv2.FONT_HERSHEY_SIMPLEX, 0.5, (255, 0, 0), 2)\n",
    "            \n",
    "            \n",
    "    display(Image.fromarray(img_np))\n",
    "    "
   ]
  },
  {
   "cell_type": "code",
   "execution_count": null,
   "id": "91d76bc4",
   "metadata": {},
   "outputs": [],
   "source": [
    "slider = widgets.IntSlider(min=0, max=len(ds)-1, step=1, value=0)\n",
    "widgets.interact(display_sample, idx=slider)"
   ]
  }
 ],
 "metadata": {
  "kernelspec": {
   "display_name": "kaiocr",
   "language": "python",
   "name": "python3"
  },
  "language_info": {
   "codemirror_mode": {
    "name": "ipython",
    "version": 3
   },
   "file_extension": ".py",
   "mimetype": "text/x-python",
   "name": "python",
   "nbconvert_exporter": "python",
   "pygments_lexer": "ipython3",
   "version": "3.12.8"
  }
 },
 "nbformat": 4,
 "nbformat_minor": 5
}
