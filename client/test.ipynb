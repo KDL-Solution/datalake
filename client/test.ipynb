{
 "cells": [
  {
   "cell_type": "code",
   "execution_count": null,
   "id": "44888da3",
   "metadata": {},
   "outputs": [],
   "source": [
    "from src.core.duckdb_client import DuckDBClient"
   ]
  },
  {
   "cell_type": "code",
   "execution_count": null,
   "id": "f94a0c27",
   "metadata": {},
   "outputs": [],
   "source": [
    "client = DuckDBClient(\"/mnt/AI_NAS/datalake/catalog.duckdb\")"
   ]
  },
  {
   "cell_type": "code",
   "execution_count": null,
   "id": "7e1ca2fd",
   "metadata": {},
   "outputs": [],
   "source": [
    "client.get_table_info(\"catalog\")"
   ]
  },
  {
   "cell_type": "code",
   "execution_count": null,
   "id": "296c1bbb",
   "metadata": {},
   "outputs": [],
   "source": [
    "client.execute_query(\n",
    "\"\"\"\n",
    "CREATE TABLE temp_analysis AS\n",
    "SELECT * FROM read_parquet(\n",
    "    '/mnt/AI_NAS/datalake/catalog/provider=*/dataset=*/task=*/variant=*/*.parquet',  \n",
    "    union_by_name=true)\n",
    "\"\"\"\n",
    ")"
   ]
  },
  {
   "cell_type": "code",
   "execution_count": null,
   "id": "97697f5b",
   "metadata": {},
   "outputs": [],
   "source": [
    "# dataset=admindocs_mrc 불러오기, na 값 제거\n",
    "analysis_result = client.execute_query(\"\"\"\n",
    "SELECT * FROM catalog WHERE (provider = 'aihub') AND (dataset = 'vis_qa') AND (task = 'raw') AND (variant = 'image')\n",
    "\"\"\")\n",
    "\n",
    "# na 값있는 column 제거\n",
    "analysis_result = analysis_result.dropna(axis=1, how='any')\n"
   ]
  },
  {
   "cell_type": "code",
   "execution_count": null,
   "id": "472ae56b",
   "metadata": {},
   "outputs": [],
   "source": [
    "client.retrieve_with_existing_cols(\n",
    "    providers=[\"aihub\"],\n",
    "    datasets=[\"vis_qa\"],\n",
    "    tasks=[\"raw\"],\n",
    "    variants=[\"image\"],\n",
    "    table=\"catalog\",\n",
    ")"
   ]
  },
  {
   "cell_type": "code",
   "execution_count": null,
   "id": "2b5fcdac",
   "metadata": {},
   "outputs": [],
   "source": [
    "analysis_result"
   ]
  }
 ],
 "metadata": {
  "kernelspec": {
   "display_name": "kaiocr",
   "language": "python",
   "name": "python3"
  },
  "language_info": {
   "codemirror_mode": {
    "name": "ipython",
    "version": 3
   },
   "file_extension": ".py",
   "mimetype": "text/x-python",
   "name": "python",
   "nbconvert_exporter": "python",
   "pygments_lexer": "ipython3",
   "version": "3.12.8"
  }
 },
 "nbformat": 4,
 "nbformat_minor": 5
}
